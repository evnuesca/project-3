{
 "cells": [
  {
   "cell_type": "markdown",
   "id": "6a0708c0-ca35-47d8-a2ce-f674e6d7fa49",
   "metadata": {},
   "source": [
    "## INST326 OOP Lab 02W03"
   ]
  },
  {
   "cell_type": "markdown",
   "id": "2bb7f115-9eba-4f29-918e-b016e6a7edc8",
   "metadata": {},
   "source": [
    "Rename this notebook, replacing _Assignment with _YourName<br>\n",
    "Copy your signature block into the cell below"
   ]
  },
  {
   "cell_type": "markdown",
   "id": "223f1ff1-a745-43d5-88c8-044c6b7ae026",
   "metadata": {},
   "source": []
  },
  {
   "cell_type": "markdown",
   "id": "8ee05bdb-db2d-41c2-9f23-3af75d058612",
   "metadata": {},
   "source": [
    "### Exercises\n",
    "Complete the following exercises in the code cells provided. Add your comments in the code cells as necessary. These exercises cover various aspects of Python programming, including collections, mutability, comprehensions, conditionals, and loops."
   ]
  },
  {
   "cell_type": "markdown",
   "id": "a1c98e85-2c64-4a03-8309-d91035cca6d2",
   "metadata": {},
   "source": [
    "#### 1. Lists\r",
    ">  Create a list of five integers. Print the first and last elements of the list."
   ]
  },
  {
   "cell_type": "code",
   "execution_count": null,
   "id": "8cf9723f-1ab6-4461-90b6-637a177e0f5a",
   "metadata": {},
   "outputs": [],
   "source": [
    "# Solution - enter your code solution below\n"
   ]
  },
  {
   "cell_type": "markdown",
   "id": "28b28d8a-dbb3-4f15-bbe0-e14504b84876",
   "metadata": {},
   "source": [
    "#### 2. Tuples\n",
    ">  Create a tuple with three strings. Print the second element of the tuple."
   ]
  },
  {
   "cell_type": "code",
   "execution_count": null,
   "id": "e655cf9f-d2fc-4541-918f-8d85b1c04e94",
   "metadata": {},
   "outputs": [],
   "source": [
    "# Solution - enter your code solution below\n"
   ]
  },
  {
   "cell_type": "markdown",
   "id": "6708f6cf-aac7-430e-947d-6f9c8dd161f6",
   "metadata": {},
   "source": [
    "#### 3. Disctionaries\n",
    ">  Create a dictionary with keys \"name\", \"age\", and \"city\", and corresponding values. Print the value of the \"name\" key."
   ]
  },
  {
   "cell_type": "code",
   "execution_count": null,
   "id": "992556f0-32d7-464d-99db-6cd10b907784",
   "metadata": {},
   "outputs": [],
   "source": [
    "# Solution - enter your code solution below\n"
   ]
  },
  {
   "cell_type": "markdown",
   "id": "fc336368-4292-42af-aa60-06b27ff6b303",
   "metadata": {},
   "source": [
    "#### 4. Mutability\n",
    ">  Create a list and a tuple with the same elements. Change the first element of the list to a new value. Try to change the first element of the tuple and observe what happens."
   ]
  },
  {
   "cell_type": "code",
   "execution_count": null,
   "id": "c06ff0ef-8adc-47d0-bc6e-9386cfb8768a",
   "metadata": {},
   "outputs": [],
   "source": [
    "# Solution - enter your code solution below\n"
   ]
  },
  {
   "cell_type": "markdown",
   "id": "131b08f7-5596-45de-a346-7d72f67bc4a0",
   "metadata": {},
   "source": [
    "#### 5. List Comprehensions\n",
    ">  Use a list comprehension to create a list of squares of numbers from 0 to 9.\n"
   ]
  },
  {
   "cell_type": "code",
   "execution_count": null,
   "id": "9f8e0737-75ed-4a21-838a-ba14186c17af",
   "metadata": {},
   "outputs": [],
   "source": [
    "# Solution - enter your code solution below\n"
   ]
  },
  {
   "cell_type": "markdown",
   "id": "26552e3c-f9f8-4c04-87c0-faf561de6826",
   "metadata": {},
   "source": [
    "#### 6. Dictionary Comprehensions\n",
    ">  Use a dictionary comprehension to create a dictionary where the keys are numbers from 1 to 5 and the values are the squares of the keys."
   ]
  },
  {
   "cell_type": "code",
   "execution_count": null,
   "id": "402b0146-f0c3-4bc7-ad15-0f5a0a0c5bf7",
   "metadata": {},
   "outputs": [],
   "source": [
    "# Solution - enter your code solution below\n"
   ]
  },
  {
   "cell_type": "markdown",
   "id": "c36d9443-0e44-40f1-ad42-6ae0057af32b",
   "metadata": {},
   "source": [
    "#### 7. Conditionals\n",
    ">  Write a program that checks if a number is even or odd and prints an appropriate message."
   ]
  },
  {
   "cell_type": "code",
   "execution_count": null,
   "id": "8e25f4d1-733e-4b69-aa95-6385956a2c31",
   "metadata": {},
   "outputs": [],
   "source": [
    "# Solution - enter your code solution below\n"
   ]
  },
  {
   "cell_type": "markdown",
   "id": "442fab8e-c280-4aaf-a09b-b23f5f2372fa",
   "metadata": {},
   "source": [
    "#### 8. For Loops\n",
    ">  Write a for loop that iterates through a list of numbers and prints each number."
   ]
  },
  {
   "cell_type": "code",
   "execution_count": null,
   "id": "0af5a093-e42e-4346-8610-83cafe0197a5",
   "metadata": {},
   "outputs": [],
   "source": [
    "# Solution - enter your code solution below\n"
   ]
  },
  {
   "cell_type": "markdown",
   "id": "038ce34d-18c9-459a-8245-910845332bc6",
   "metadata": {},
   "source": [
    "#### 9. While Loops\n",
    ">  Write a while loop that counts from 1 to 5 and prints each number."
   ]
  },
  {
   "cell_type": "code",
   "execution_count": null,
   "id": "a3e5f723-01fa-487c-867a-af3326a626fa",
   "metadata": {},
   "outputs": [],
   "source": [
    "# Solution - enter your code solution below\n"
   ]
  },
  {
   "cell_type": "markdown",
   "id": "e22f815a-90a7-4cd1-b8c1-66e20f2085a2",
   "metadata": {},
   "source": [
    "#### 10. Nested Loops\n",
    ">  Write a nested loop that prints a 3x3 matrix of asterisks."
   ]
  },
  {
   "cell_type": "code",
   "execution_count": null,
   "id": "cb35b908-6683-4144-816c-051715925504",
   "metadata": {},
   "outputs": [],
   "source": [
    "# Solution - enter your code solution below\n"
   ]
  },
  {
   "cell_type": "markdown",
   "id": "ec8ddd19-87cd-475d-a07f-7dc8983dc636",
   "metadata": {
    "jp-MarkdownHeadingCollapsed": true
   },
   "source": [
    "### Notebook Instructions\n",
    "> Before turning in your notebook:\n",
    "> 1. Make sure you have renamed the notebook file as instructed\n",
    "> 2. Make sure you have included your signature block and that it is correct according to the instructions\n",
    "> 3. comment your code as necessary\n",
    "> 4. run all code cells and double check that they run correctly<br><br>\n",
    "Turn in your notebook by uploading it to ELMS<br>\n",
    "IF the exercises involve saved data files, put your notebook and the data file(s) in a zip folder and upload the zip folder to ELMS"
   ]
  }
 ],
 "metadata": {
  "kernelspec": {
   "display_name": "Python 3 (ipykernel)",
   "language": "python",
   "name": "python3"
  },
  "language_info": {
   "codemirror_mode": {
    "name": "ipython",
    "version": 3
   },
   "file_extension": ".py",
   "mimetype": "text/x-python",
   "name": "python",
   "nbconvert_exporter": "python",
   "pygments_lexer": "ipython3",
   "version": "3.12.2"
  }
 },
 "nbformat": 4,
 "nbformat_minor": 5
}
