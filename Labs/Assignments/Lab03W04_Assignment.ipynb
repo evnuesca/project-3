{
 "cells": [
  {
   "cell_type": "markdown",
   "id": "6a0708c0-ca35-47d8-a2ce-f674e6d7fa49",
   "metadata": {},
   "source": [
    "## INST326 OOP Lab 03W04"
   ]
  },
  {
   "cell_type": "markdown",
   "id": "2bb7f115-9eba-4f29-918e-b016e6a7edc8",
   "metadata": {},
   "source": [
    "Rename this notebook, replacing _Assignment with _YourName<br>\n",
    "Copy your signature block into the cell below"
   ]
  },
  {
   "cell_type": "code",
   "execution_count": null,
   "id": "909de2a2-33f2-4ba3-b491-a5187e96d0b5",
   "metadata": {},
   "outputs": [],
   "source": []
  },
  {
   "cell_type": "markdown",
   "id": "8ee05bdb-db2d-41c2-9f23-3af75d058612",
   "metadata": {},
   "source": [
    "### Exercises\n",
    "Complete the following exercises in the code cells provided. Add your comments in the code cells as necessary. These exercises cover various aspects of input/output in Python, including file operations, working with different file types, interacting with databases, and fetching data from web APIs."
   ]
  },
  {
   "cell_type": "markdown",
   "id": "a1c98e85-2c64-4a03-8309-d91035cca6d2",
   "metadata": {},
   "source": [
    "#### 1. Reading from a Text File\r",
    ">  Write a program that reads the contents of a text file named <font color=green>example.txt</font> and prints it to the console."
   ]
  },
  {
   "cell_type": "code",
   "execution_count": null,
   "id": "8cf9723f-1ab6-4461-90b6-637a177e0f5a",
   "metadata": {},
   "outputs": [],
   "source": [
    "# Solution - enter your code solution below\n"
   ]
  },
  {
   "cell_type": "markdown",
   "id": "28b28d8a-dbb3-4f15-bbe0-e14504b84876",
   "metadata": {},
   "source": [
    "#### 2. Writing to a Text File\n",
    ">  Write a program that writes the string \"Hello, world!\" to a text file named <font color=green>output.txt</font>."
   ]
  },
  {
   "cell_type": "code",
   "execution_count": null,
   "id": "e655cf9f-d2fc-4541-918f-8d85b1c04e94",
   "metadata": {},
   "outputs": [],
   "source": [
    "# Solution - enter your code solution below\n"
   ]
  },
  {
   "cell_type": "markdown",
   "id": "6708f6cf-aac7-430e-947d-6f9c8dd161f6",
   "metadata": {},
   "source": [
    "#### 3. Appending to a Text File\n",
    ">  Write a program that appends the string \"Python is awesome!\" to a text file named <font color=green>output.txt</font>."
   ]
  },
  {
   "cell_type": "code",
   "execution_count": null,
   "id": "992556f0-32d7-464d-99db-6cd10b907784",
   "metadata": {},
   "outputs": [],
   "source": [
    "# Solution - enter your code solution below\n"
   ]
  },
  {
   "cell_type": "markdown",
   "id": "fc336368-4292-42af-aa60-06b27ff6b303",
   "metadata": {},
   "source": [
    "#### 4. Reading a CSV File\n",
    ">  Write a program that reads a CSV file named <font color=green>data.csv</font> and prints each row to the console."
   ]
  },
  {
   "cell_type": "code",
   "execution_count": null,
   "id": "c06ff0ef-8adc-47d0-bc6e-9386cfb8768a",
   "metadata": {},
   "outputs": [],
   "source": [
    "# Solution - enter your code solution below\n"
   ]
  },
  {
   "cell_type": "markdown",
   "id": "a888df44-471d-44f2-bd08-8e1d16ebd415",
   "metadata": {},
   "source": [
    "#### 5. Writing to a CSV File\n",
    ">  Write a program that writes a list of dictionaries to a CSV file named <font color=green>output.csv</font>. Each dictionary should have the keys <font color=green>name</font> and <font color=green>age</font>.\n"
   ]
  },
  {
   "cell_type": "code",
   "execution_count": null,
   "id": "76c34fe3-8708-4e28-9633-7f1e1c9aee09",
   "metadata": {},
   "outputs": [],
   "source": [
    "# Solution - enter your code solution below\n"
   ]
  },
  {
   "cell_type": "markdown",
   "id": "131b08f7-5596-45de-a346-7d72f67bc4a0",
   "metadata": {},
   "source": [
    "#### 6. Reading a JSON Data\n",
    ">  Write a program that reads a JSON file named <font color=green>data.json</font> and prints the data to the console.\r\n"
   ]
  },
  {
   "cell_type": "code",
   "execution_count": null,
   "id": "9f8e0737-75ed-4a21-838a-ba14186c17af",
   "metadata": {},
   "outputs": [],
   "source": [
    "# Solution - enter your code solution below\n"
   ]
  },
  {
   "cell_type": "markdown",
   "id": "26552e3c-f9f8-4c04-87c0-faf561de6826",
   "metadata": {},
   "source": [
    "#### 7. Writing JSON Data\n",
    ">  Write a program that writes a dictionary to a JSON file named <font color=green>output.json</font>."
   ]
  },
  {
   "cell_type": "code",
   "execution_count": null,
   "id": "402b0146-f0c3-4bc7-ad15-0f5a0a0c5bf7",
   "metadata": {},
   "outputs": [],
   "source": [
    "# Solution - enter your code solution below\n"
   ]
  },
  {
   "cell_type": "markdown",
   "id": "c36d9443-0e44-40f1-ad42-6ae0057af32b",
   "metadata": {},
   "source": [
    "#### 8. Database: SQLite\n",
    ">  Write a program that creates a SQLite database named <font color=green>example.db</font>, creates a table named <font color=green>users</font>, and inserts a new user with the name \"Alice\" and age 25.\n"
   ]
  },
  {
   "cell_type": "code",
   "execution_count": null,
   "id": "8e25f4d1-733e-4b69-aa95-6385956a2c31",
   "metadata": {},
   "outputs": [],
   "source": [
    "# Solution - enter your code solution below\n"
   ]
  },
  {
   "cell_type": "markdown",
   "id": "038ce34d-18c9-459a-8245-910845332bc6",
   "metadata": {},
   "source": [
    "#### 9. Database: Querying SQLite\n",
    ">  Write a program that reads all rows from the <font color=green>users</font> table in the <font color=green>example.db</font> database and prints them to the console."
   ]
  },
  {
   "cell_type": "code",
   "execution_count": null,
   "id": "a3e5f723-01fa-487c-867a-af3326a626fa",
   "metadata": {},
   "outputs": [],
   "source": [
    "# Solution - enter your code solution below\n"
   ]
  },
  {
   "cell_type": "markdown",
   "id": "125128a6-e5ce-4f61-8994-973e7e5c77b9",
   "metadata": {},
   "source": [
    "#### 10. Web APIs: Fetching Data\n",
    ">  Write a program that fetches data from a public API (e.g., JSONPlaceholder) and prints the result. Use the endpoint <font color=green>https://jsonplaceholder.typicode.com/posts</font>.\r\n"
   ]
  },
  {
   "cell_type": "code",
   "execution_count": null,
   "id": "cb35b908-6683-4144-816c-051715925504",
   "metadata": {},
   "outputs": [],
   "source": [
    "# Solution - enter your code solution below\n"
   ]
  },
  {
   "cell_type": "markdown",
   "id": "ec8ddd19-87cd-475d-a07f-7dc8983dc636",
   "metadata": {
    "jp-MarkdownHeadingCollapsed": true
   },
   "source": [
    "### Notebook Instructions\n",
    "> Before turning in your notebook:\n",
    "> 1. Make sure you have renamed the notebook file as instructed\n",
    "> 2. Make sure you have included your signature block and that it is correct according to the instructions\n",
    "> 3. comment your code as necessary\n",
    "> 4. run all code cells and double check that they run correctly<br><br>\n",
    "Turn in your notebook by uploading it to ELMS<br>\n",
    "IF the exercises involve saved data files, put your notebook and the data file(s) in a zip folder and upload the zip folder to ELMS"
   ]
  }
 ],
 "metadata": {
  "kernelspec": {
   "display_name": "Python 3 (ipykernel)",
   "language": "python",
   "name": "python3"
  },
  "language_info": {
   "codemirror_mode": {
    "name": "ipython",
    "version": 3
   },
   "file_extension": ".py",
   "mimetype": "text/x-python",
   "name": "python",
   "nbconvert_exporter": "python",
   "pygments_lexer": "ipython3",
   "version": "3.12.2"
  }
 },
 "nbformat": 4,
 "nbformat_minor": 5
}
