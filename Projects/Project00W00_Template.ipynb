{
 "cells": [
  {
   "cell_type": "markdown",
   "id": "cddf5de3-a9f3-4471-bbaf-aca41a70ce89",
   "metadata": {},
   "source": [
    "## INST326 OOP Project 00W00"
   ]
  },
  {
   "cell_type": "markdown",
   "id": "2bb7f115-9eba-4f29-918e-b016e6a7edc8",
   "metadata": {},
   "source": [
    "Rename this notebook, replacing \"_Assignment\" with \"_YourName\"<br>\n",
    "Insert Signature Block Here"
   ]
  },
  {
   "cell_type": "markdown",
   "id": "cd1c9a24-ec1c-4b04-a8c3-0d58270ca275",
   "metadata": {
    "jp-MarkdownHeadingCollapsed": true
   },
   "source": [
    "### <font color=red>Instructions for TA</font>\n",
    "> <font color=red>FIRST: be sure to create a copy of this template and rename it with the correct project number and replace \"Template\" with\"Solution\". Create your solution notebook first, then copy it as your \"Assignment\" notebook and delete the code in the solution cells - except for the comment on the first line. Use this template for creating project notebooks. Most of the formatting is intact. Look at the markdown HTML code for this cell for a few formatting tools. For example use the font color=green tag to change font colors to green when referencing python code or variables in the text. I have found that when you copy and paste from the google doc, there may be stray formatting characters, so it is best to retype the affected text inside the html tags. To indent text, start the line with a \">\" followed by a space. To add a new line use \"br tag\" like this (look at the markdown code).<br>Delete this markdown cell when you are finished with it. Delete unused project cells at the end.</font>"
   ]
  },
  {
   "cell_type": "markdown",
   "id": "8ee05bdb-db2d-41c2-9f23-3af75d058612",
   "metadata": {},
   "source": [
    "### Projects\n",
    "Choose **ONE** of the following projects and write to code solution in the code cell below your choice. Use comments in your code to document your solution. If you need to write comments to the grader, add a markdown cell immediately above your code solution and add your comments there. Be sure to read and follow the Notebook Instructions at the bottom of this notebook. Your grade may depend on it! These projects cover [add description here]"
   ]
  },
  {
   "cell_type": "markdown",
   "id": "a1c98e85-2c64-4a03-8309-d91035cca6d2",
   "metadata": {},
   "source": [
    "#### 1. Title\r",
    ">  Description"
   ]
  },
  {
   "cell_type": "code",
   "execution_count": null,
   "id": "8cf9723f-1ab6-4461-90b6-637a177e0f5a",
   "metadata": {},
   "outputs": [],
   "source": [
    "# Solution - enter your code solution below\n"
   ]
  },
  {
   "cell_type": "markdown",
   "id": "28b28d8a-dbb3-4f15-bbe0-e14504b84876",
   "metadata": {},
   "source": [
    "#### 2. Title\n",
    ">  Description"
   ]
  },
  {
   "cell_type": "code",
   "execution_count": null,
   "id": "e655cf9f-d2fc-4541-918f-8d85b1c04e94",
   "metadata": {},
   "outputs": [],
   "source": [
    "# Solution - enter your code solution below\n"
   ]
  },
  {
   "cell_type": "markdown",
   "id": "6708f6cf-aac7-430e-947d-6f9c8dd161f6",
   "metadata": {},
   "source": [
    "#### 3. Title\n",
    ">  Description"
   ]
  },
  {
   "cell_type": "code",
   "execution_count": null,
   "id": "992556f0-32d7-464d-99db-6cd10b907784",
   "metadata": {},
   "outputs": [],
   "source": [
    "# Solution - enter your code solution below\n"
   ]
  },
  {
   "cell_type": "markdown",
   "id": "fc336368-4292-42af-aa60-06b27ff6b303",
   "metadata": {},
   "source": [
    "#### 4. Title\n",
    ">  Description"
   ]
  },
  {
   "cell_type": "code",
   "execution_count": null,
   "id": "c06ff0ef-8adc-47d0-bc6e-9386cfb8768a",
   "metadata": {},
   "outputs": [],
   "source": [
    "# Solution - enter your code solution below\n"
   ]
  },
  {
   "cell_type": "markdown",
   "id": "a888df44-471d-44f2-bd08-8e1d16ebd415",
   "metadata": {},
   "source": [
    "#### 5. Title\n",
    ">  Description\r\n"
   ]
  },
  {
   "cell_type": "code",
   "execution_count": null,
   "id": "76c34fe3-8708-4e28-9633-7f1e1c9aee09",
   "metadata": {},
   "outputs": [],
   "source": [
    "# Solution - enter your code solution below\n"
   ]
  },
  {
   "cell_type": "markdown",
   "id": "131b08f7-5596-45de-a346-7d72f67bc4a0",
   "metadata": {},
   "source": [
    "#### 6. Title\n",
    ">  Description\r\n"
   ]
  },
  {
   "cell_type": "code",
   "execution_count": null,
   "id": "9f8e0737-75ed-4a21-838a-ba14186c17af",
   "metadata": {},
   "outputs": [],
   "source": [
    "# Solution - enter your code solution below\n"
   ]
  },
  {
   "cell_type": "markdown",
   "id": "26552e3c-f9f8-4c04-87c0-faf561de6826",
   "metadata": {},
   "source": [
    "#### 7. Title\n",
    ">  Description"
   ]
  },
  {
   "cell_type": "code",
   "execution_count": null,
   "id": "402b0146-f0c3-4bc7-ad15-0f5a0a0c5bf7",
   "metadata": {},
   "outputs": [],
   "source": [
    "# Solution - enter your code solution below\n"
   ]
  },
  {
   "cell_type": "markdown",
   "id": "c36d9443-0e44-40f1-ad42-6ae0057af32b",
   "metadata": {},
   "source": [
    "#### 8. Title\n",
    ">  Description\n"
   ]
  },
  {
   "cell_type": "code",
   "execution_count": null,
   "id": "8e25f4d1-733e-4b69-aa95-6385956a2c31",
   "metadata": {},
   "outputs": [],
   "source": [
    "# Solution - enter your code solution below\n"
   ]
  },
  {
   "cell_type": "markdown",
   "id": "038ce34d-18c9-459a-8245-910845332bc6",
   "metadata": {},
   "source": [
    "#### 9. Title\n",
    ">  Description"
   ]
  },
  {
   "cell_type": "code",
   "execution_count": null,
   "id": "a3e5f723-01fa-487c-867a-af3326a626fa",
   "metadata": {},
   "outputs": [],
   "source": [
    "# Solution - enter your code solution below\n"
   ]
  },
  {
   "cell_type": "markdown",
   "id": "125128a6-e5ce-4f61-8994-973e7e5c77b9",
   "metadata": {},
   "source": [
    "#### 10. Title\n",
    ">  Description\r\n"
   ]
  },
  {
   "cell_type": "code",
   "execution_count": null,
   "id": "cb35b908-6683-4144-816c-051715925504",
   "metadata": {},
   "outputs": [],
   "source": [
    "# Solution - enter your code solution below\n"
   ]
  },
  {
   "cell_type": "markdown",
   "id": "ec8ddd19-87cd-475d-a07f-7dc8983dc636",
   "metadata": {},
   "source": [
    "### Notebook Instructions\n",
    "> Before turning in your notebook:\n",
    "> 1. Make sure you have renamed the notebook file as instructed\n",
    "> 2. Make sure you have included your signature block and that it is correct according to the instructions\n",
    "> 3. comment your code as necessary\n",
    "> 4. run all code cells and double check that they run correctly. If you can't get your code to run correctly and you want partial credit, add a note for the grader in a new markdown cell directly above your code solution.<br><br>\n",
    "Turn in your notebook by uploading it to ELMS<br>\n",
    "IF the exercises involve saved data files, put your notebook and the data file(s) in a zip folder and upload the zip folder to ELMS"
   ]
  },
  {
   "cell_type": "code",
   "execution_count": null,
   "id": "c2f96be2-9bc0-46ea-98fb-51d8c07c7de8",
   "metadata": {},
   "outputs": [],
   "source": []
  }
 ],
 "metadata": {
  "kernelspec": {
   "display_name": "Python 3 (ipykernel)",
   "language": "python",
   "name": "python3"
  },
  "language_info": {
   "codemirror_mode": {
    "name": "ipython",
    "version": 3
   },
   "file_extension": ".py",
   "mimetype": "text/x-python",
   "name": "python",
   "nbconvert_exporter": "python",
   "pygments_lexer": "ipython3",
   "version": "3.12.4"
  }
 },
 "nbformat": 4,
 "nbformat_minor": 5
}
