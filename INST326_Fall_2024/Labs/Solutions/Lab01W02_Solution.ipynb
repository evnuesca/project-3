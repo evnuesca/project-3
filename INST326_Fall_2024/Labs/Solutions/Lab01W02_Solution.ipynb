{
 "cells": [
  {
   "cell_type": "markdown",
   "id": "6a0708c0-ca35-47d8-a2ce-f674e6d7fa49",
   "metadata": {},
   "source": [
    "## INST326 OOP Lab 01W02"
   ]
  },
  {
   "cell_type": "markdown",
   "id": "2bb7f115-9eba-4f29-918e-b016e6a7edc8",
   "metadata": {},
   "source": [
    "Insert Signature Block Here"
   ]
  },
  {
   "cell_type": "markdown",
   "id": "8ee05bdb-db2d-41c2-9f23-3af75d058612",
   "metadata": {},
   "source": [
    "### Exercises\n",
    "These exercises cover various aspects of Python programming, including variables, data types, operators, <font color=green>print()</font>, <font color=green>input()</font>, statements, and functions."
   ]
  },
  {
   "cell_type": "markdown",
   "id": "a1c98e85-2c64-4a03-8309-d91035cca6d2",
   "metadata": {},
   "source": [
    "#### 1. Variables and Data Types\r",
    ">  Create a variabl <font color=green>name</font>  and assign your name to it. Create another variabl <font color=green>age</font>  and assign your age to it. Print a message saying \"My name is [name] and I am [age] years old.\""
   ]
  },
  {
   "cell_type": "code",
   "execution_count": 36,
   "id": "8cf9723f-1ab6-4461-90b6-637a177e0f5a",
   "metadata": {},
   "outputs": [
    {
     "name": "stdout",
     "output_type": "stream",
     "text": [
      "My name is John and I am 25 years old.\n"
     ]
    }
   ],
   "source": [
    "# Solution - enter your code solution below\n",
    "name = \"John\"\n",
    "age = 25\n",
    "print(f\"My name is {name} and I am {age} years old.\")"
   ]
  },
  {
   "cell_type": "markdown",
   "id": "28b28d8a-dbb3-4f15-bbe0-e14504b84876",
   "metadata": {},
   "source": [
    "#### 2. Operators\r",
    ">  Given two variable <font color=green>a</font>  an <font color=green>b</font>  with values 10 and 3, perform addition, subtraction, multiplication, division, and modulus operations and print the results."
   ]
  },
  {
   "cell_type": "code",
   "execution_count": 38,
   "id": "e655cf9f-d2fc-4541-918f-8d85b1c04e94",
   "metadata": {},
   "outputs": [
    {
     "name": "stdout",
     "output_type": "stream",
     "text": [
      "Addition: 13\n",
      "Subtraction: 7\n",
      "Multiplication: 30\n",
      "Division: 3.3333333333333335\n",
      "Modulus: 1\n"
     ]
    }
   ],
   "source": [
    "# Solution - enter your code solution below\n",
    "a = 10\n",
    "b = 3\n",
    "print(f\"Addition: {a + b}\")\n",
    "print(f\"Subtraction: {a - b}\")\n",
    "print(f\"Multiplication: {a * b}\")\n",
    "print(f\"Division: {a / b}\")\n",
    "print(f\"Modulus: {a % b}\")"
   ]
  },
  {
   "cell_type": "markdown",
   "id": "6708f6cf-aac7-430e-947d-6f9c8dd161f6",
   "metadata": {},
   "source": [
    "#### 3. Data Types\n",
    "> Convert the string \"100\" to an integer and the integer 50 to a string. Print the types of the resulting variables to verify the conversions."
   ]
  },
  {
   "cell_type": "code",
   "execution_count": 40,
   "id": "992556f0-32d7-464d-99db-6cd10b907784",
   "metadata": {},
   "outputs": [
    {
     "name": "stdout",
     "output_type": "stream",
     "text": [
      "<class 'int'>\n",
      "<class 'str'>\n"
     ]
    }
   ],
   "source": [
    "# Solution - enter your code solution below\n",
    "str_num = \"100\"\n",
    "int_num = 50\n",
    "converted_str_num = int(str_num)\n",
    "converted_int_num = str(int_num)\n",
    "print(type(converted_str_num))  # <class 'int'>\n",
    "print(type(converted_int_num))  # <class 'str'>"
   ]
  },
  {
   "cell_type": "markdown",
   "id": "fc336368-4292-42af-aa60-06b27ff6b303",
   "metadata": {},
   "source": [
    "#### 4. print()\n",
    "> Print the following lines using a single <font color=green>print()</font> statement:<br>\n",
    "> <font color=green>Hello World!<br>\n",
    "> Welcome to Python programming.</font>"
   ]
  },
  {
   "cell_type": "code",
   "execution_count": 42,
   "id": "c06ff0ef-8adc-47d0-bc6e-9386cfb8768a",
   "metadata": {},
   "outputs": [
    {
     "name": "stdout",
     "output_type": "stream",
     "text": [
      "Hello, World!\n",
      "Welcome to Python programming.\n"
     ]
    }
   ],
   "source": [
    "# Solution - enter your code solution below\n",
    "print(\"Hello, World!\\nWelcome to Python programming.\")"
   ]
  },
  {
   "cell_type": "markdown",
   "id": "a888df44-471d-44f2-bd08-8e1d16ebd415",
   "metadata": {},
   "source": [
    "#### 5. input()\n",
    "> Write a program that asks the user for their name and age, and then prints a message saying \"Hello [name], you are [age] years old.\"\r\n"
   ]
  },
  {
   "cell_type": "code",
   "execution_count": 44,
   "id": "76c34fe3-8708-4e28-9633-7f1e1c9aee09",
   "metadata": {},
   "outputs": [
    {
     "name": "stdin",
     "output_type": "stream",
     "text": [
      "Enter your name:  scott\n",
      "Enter your age:  65\n"
     ]
    },
    {
     "name": "stdout",
     "output_type": "stream",
     "text": [
      "Hello scott, you are 65 years old.\n"
     ]
    }
   ],
   "source": [
    "# Solution - enter your code solution below\n",
    "name = input(\"Enter your name: \")\n",
    "age = input(\"Enter your age: \")\n",
    "print(f\"Hello {name}, you are {age} years old.\")"
   ]
  },
  {
   "cell_type": "markdown",
   "id": "131b08f7-5596-45de-a346-7d72f67bc4a0",
   "metadata": {},
   "source": [
    "#### 6. Statements\n",
    "> Write an <font color=green>if</font> statement that checks if a variable <font color=green>number</font> is positive, negative, or zero and prints a corresponding message.\r\n"
   ]
  },
  {
   "cell_type": "code",
   "execution_count": 46,
   "id": "9f8e0737-75ed-4a21-838a-ba14186c17af",
   "metadata": {},
   "outputs": [
    {
     "name": "stdin",
     "output_type": "stream",
     "text": [
      "Enter a number:  24\n"
     ]
    },
    {
     "name": "stdout",
     "output_type": "stream",
     "text": [
      "The number is positive.\n"
     ]
    }
   ],
   "source": [
    "# Solution - enter your code solution below\n",
    "number = int(input(\"Enter a number: \"))\n",
    "if number > 0:\n",
    "    print(\"The number is positive.\")\n",
    "elif number < 0:\n",
    "    print(\"The number is negative.\")\n",
    "else:\n",
    "    print(\"The number is zero.\")"
   ]
  },
  {
   "cell_type": "markdown",
   "id": "26552e3c-f9f8-4c04-87c0-faf561de6826",
   "metadata": {},
   "source": [
    "#### 7. Functions\n",
    "> Write a function <font color=green>greet</font> that takes a name as an argument and prints \"Hello, [name]!\" Call this function with your name as the argument."
   ]
  },
  {
   "cell_type": "code",
   "execution_count": 48,
   "id": "402b0146-f0c3-4bc7-ad15-0f5a0a0c5bf7",
   "metadata": {},
   "outputs": [
    {
     "name": "stdout",
     "output_type": "stream",
     "text": [
      "Hello, John!\n"
     ]
    }
   ],
   "source": [
    "# Solution - enter your code solution below\n",
    "def greet(name):\n",
    "    print(f\"Hello, {name}!\")\n",
    "\n",
    "greet(\"John\")"
   ]
  },
  {
   "cell_type": "markdown",
   "id": "c36d9443-0e44-40f1-ad42-6ae0057af32b",
   "metadata": {},
   "source": [
    "#### 8. Functions with Return Value\n",
    "> Write a function <font color=green>add</font> that takes two numbers as arguments, adds them, and returns the result. Call this function with the arguments 5 and 3, and print the result.\n"
   ]
  },
  {
   "cell_type": "code",
   "execution_count": 50,
   "id": "8e25f4d1-733e-4b69-aa95-6385956a2c31",
   "metadata": {},
   "outputs": [
    {
     "name": "stdout",
     "output_type": "stream",
     "text": [
      "8\n"
     ]
    }
   ],
   "source": [
    "# Solution - enter your code solution below\n",
    "def add(a, b):\n",
    "    return a + b\n",
    "\n",
    "result = add(5, 3)\n",
    "print(result)"
   ]
  },
  {
   "cell_type": "markdown",
   "id": "038ce34d-18c9-459a-8245-910845332bc6",
   "metadata": {},
   "source": [
    "#### 9. Combining print() and input()\n",
    "> Write a program that asks the user for two numbers, adds them, and prints the result.\n"
   ]
  },
  {
   "cell_type": "code",
   "execution_count": 52,
   "id": "a3e5f723-01fa-487c-867a-af3326a626fa",
   "metadata": {},
   "outputs": [
    {
     "name": "stdin",
     "output_type": "stream",
     "text": [
      "Enter the first number:  12\n",
      "Enter the second number:  5\n"
     ]
    },
    {
     "name": "stdout",
     "output_type": "stream",
     "text": [
      "The sum is: 17.0\n"
     ]
    }
   ],
   "source": [
    "# Solution - enter your code solution below\n",
    "num1 = float(input(\"Enter the first number: \"))\n",
    "num2 = float(input(\"Enter the second number: \"))\n",
    "result = num1 + num2\n",
    "print(f\"The sum is: {result}\")"
   ]
  },
  {
   "cell_type": "markdown",
   "id": "125128a6-e5ce-4f61-8994-973e7e5c77b9",
   "metadata": {},
   "source": [
    "#### 10. Combining Variables, Operators, and Functions\n",
    "> Write a function <font color=green>calculate</font> that takes two numbers and an operator (<font color=green>+,-,*,/</font>) as arguments, performs the corresponding operation, and returns the result. Use this function to perform calculations based on user input.\r\n"
   ]
  },
  {
   "cell_type": "code",
   "execution_count": 54,
   "id": "cb35b908-6683-4144-816c-051715925504",
   "metadata": {},
   "outputs": [
    {
     "name": "stdin",
     "output_type": "stream",
     "text": [
      "Enter the first number:  5\n",
      "Enter the second number:  6\n",
      "Enter an operator (+, -, *, /):  -\n"
     ]
    },
    {
     "name": "stdout",
     "output_type": "stream",
     "text": [
      "The result is: -1.0\n"
     ]
    }
   ],
   "source": [
    "# Solution - enter your code solution below\n",
    "def calculate(a, b, operator):\n",
    "    if operator == '+':\n",
    "        return a + b\n",
    "    elif operator == '-':\n",
    "        return a - b\n",
    "    elif operator == '*':\n",
    "        return a * b\n",
    "    elif operator == '/':\n",
    "        return a / b\n",
    "    else:\n",
    "        return \"Invalid operator\"\n",
    "\n",
    "num1 = float(input(\"Enter the first number: \"))\n",
    "num2 = float(input(\"Enter the second number: \"))\n",
    "op = input(\"Enter an operator (+, -, *, /): \")\n",
    "result = calculate(num1, num2, op)\n",
    "print(f\"The result is: {result}\")"
   ]
  }
 ],
 "metadata": {
  "kernelspec": {
   "display_name": "Python 3 (ipykernel)",
   "language": "python",
   "name": "python3"
  },
  "language_info": {
   "codemirror_mode": {
    "name": "ipython",
    "version": 3
   },
   "file_extension": ".py",
   "mimetype": "text/x-python",
   "name": "python",
   "nbconvert_exporter": "python",
   "pygments_lexer": "ipython3",
   "version": "3.12.4"
  }
 },
 "nbformat": 4,
 "nbformat_minor": 5
}
