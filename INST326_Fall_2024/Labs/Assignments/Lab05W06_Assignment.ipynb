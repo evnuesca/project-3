{
 "cells": [
  {
   "cell_type": "markdown",
   "id": "f6caebc5-1ae7-4cea-80ed-7fb1ecc9ea30",
   "metadata": {},
   "source": [
    "## INST326 OOP Lab 05W06"
   ]
  },
  {
   "cell_type": "markdown",
   "id": "c4cc6a63-d4ce-4041-a7a2-6a8a9673f25f",
   "metadata": {},
   "source": [
    "Rename this notebook, replacing _Assignment with _YourName<br>\n",
    "Copy your signature block into the cell below"
   ]
  },
  {
   "cell_type": "markdown",
   "id": "44394c47-36a8-4deb-a260-7cb061ba4cae",
   "metadata": {},
   "source": []
  },
  {
   "cell_type": "markdown",
   "id": "4f7ab8c9-ee13-4b9b-b7fb-759a21e85d45",
   "metadata": {},
   "source": [
    "### Exercises\n",
    "These exercises will help you get comfortable with creating user interfaces and handling user interactions using Tkinter in Python."
   ]
  },
  {
   "cell_type": "markdown",
   "id": "c6126c82-b954-412e-944e-8b057a8f7178",
   "metadata": {},
   "source": [
    "#### 1. Basic Tkinter Window\n",
    ">  Create a basic Tkinter window with a title \"Hello Tkinter\"."
   ]
  },
  {
   "cell_type": "code",
   "execution_count": null,
   "id": "2fa9bafa-fe12-48a7-a0f9-85fb7c84060b",
   "metadata": {},
   "outputs": [],
   "source": [
    "# Solution - enter your code solution below\n"
   ]
  },
  {
   "cell_type": "markdown",
   "id": "2a7dbeab-f0e8-4275-bf15-c1db345482a1",
   "metadata": {
    "tags": []
   },
   "source": [
    "#### 2. Label Widget\n",
    ">  Create a Tkinter window with a label that displays \"Welcome to Tkinter!\"."
   ]
  },
  {
   "cell_type": "code",
   "execution_count": null,
   "id": "55e2a23f-e4a2-44f8-bbcb-8800aa902073",
   "metadata": {},
   "outputs": [],
   "source": [
    "# Solution - enter your code solution below\n"
   ]
  },
  {
   "cell_type": "markdown",
   "id": "4902990b-f5ab-4d5e-aa80-4c60f6d2da4e",
   "metadata": {
    "tags": []
   },
   "source": [
    "#### 3. Button Widget\n",
    ">  Create a Tkinter window with a button that, when clicked, prints \"Button Clicked!\" to the console."
   ]
  },
  {
   "cell_type": "code",
   "execution_count": null,
   "id": "b3fdabfc-bc95-42a4-9eef-8e7b5800efdb",
   "metadata": {},
   "outputs": [],
   "source": [
    "# Solution - enter your code solution below\n"
   ]
  },
  {
   "cell_type": "markdown",
   "id": "c05c7d93-7683-4164-9094-4d4f193716c9",
   "metadata": {
    "tags": []
   },
   "source": [
    "#### 4. Entry Widget\n",
    ">  Create a Tkinter window with an entry widget and a button. When the button is clicked, print the content of the entry widget to the console."
   ]
  },
  {
   "cell_type": "code",
   "execution_count": null,
   "id": "04c8c068-2dcb-4f3a-8e4e-c659feb44478",
   "metadata": {},
   "outputs": [],
   "source": [
    "# Solution - enter your code solution below\n"
   ]
  },
  {
   "cell_type": "markdown",
   "id": "4c346df7-7124-45c0-ad33-ba224bef9cc1",
   "metadata": {
    "tags": []
   },
   "source": [
    "#### 5. Label Update\n",
    ">  Create a Tkinter window with an entry widget, a button, and a label. When the button is clicked, update the label to display the content of the entry widget."
   ]
  },
  {
   "cell_type": "code",
   "execution_count": null,
   "id": "4638d0c4-8140-469f-a9aa-04f17ee57dd6",
   "metadata": {},
   "outputs": [],
   "source": [
    "# Solution - enter your code solution below\n"
   ]
  },
  {
   "cell_type": "markdown",
   "id": "106397b3-2eb9-4eb9-a3c7-3b4dc7f6bc3e",
   "metadata": {
    "tags": []
   },
   "source": [
    "#### 6. Combining Widgets\n",
    ">  Create a Tkinter window with a label, an entry widget, and a button. When the button is clicked, change the label text to \"Hello, [name]!\" where [name] is the text entered in the entry widget."
   ]
  },
  {
   "cell_type": "code",
   "execution_count": null,
   "id": "5ddd2d20-59bb-47ab-a2a1-b2c358730c90",
   "metadata": {},
   "outputs": [],
   "source": [
    "# Solution - enter your code solution below\n"
   ]
  },
  {
   "cell_type": "code",
   "execution_count": null,
   "id": "a265c150-417f-4913-9dba-c3e5d310990b",
   "metadata": {},
   "outputs": [],
   "source": [
    "# Solution - enter your code solution below\n"
   ]
  },
  {
   "cell_type": "markdown",
   "id": "30f1cd2a-bf07-4ea5-838b-f5489954e376",
   "metadata": {
    "tags": []
   },
   "source": [
    "#### 7. Checkbox Widget\n",
    ">  Create a Tkinter window with two checkboxes labeled \"Option 1\" and \"Option 2\". When a checkbox is checked or unchecked, print the state of the checkboxes to the console. (refer to the second program from the lecture for syntax on creating checkboxes.)"
   ]
  },
  {
   "cell_type": "code",
   "execution_count": null,
   "id": "0b78299a-d191-490f-97d5-90c11f39453d",
   "metadata": {},
   "outputs": [],
   "source": [
    "# Solution - enter your code solution below\n"
   ]
  },
  {
   "cell_type": "markdown",
   "id": "c17357c5-adaa-43ec-90a6-2508b58dc763",
   "metadata": {
    "tags": []
   },
   "source": [
    "#### 8. Text Widget\n",
    ">  Create a Tkinter text widget and a button. When the button is clicked, print the contents of the text widget the console."
   ]
  },
  {
   "cell_type": "code",
   "execution_count": null,
   "id": "f27e5bdd-812f-4c71-b6f7-6eea76f4129b",
   "metadata": {},
   "outputs": [],
   "source": [
    "# Solution - enter your code solution below\n"
   ]
  },
  {
   "cell_type": "markdown",
   "id": "22645aff-9e47-42d6-9c4a-96ffce9ec5da",
   "metadata": {
    "tags": []
   },
   "source": [
    "#### 9. and 10. Note App (6pts)\n",
    ">  This exercise will create a window for creating a note, like in a note-taking app. Create a Tkinter window with three labels, an entry box, a text box, and a button. You may also want to create two frames. The first label is a title label that says \"Create your note\". The second label says \"note title: \" and goes with the entry box in the first frame.  The third label says \"note text: \" and goes with the text widget in the second frame. The button contains the text \"submit\". When the button is pressed, it prints the note title, note text, and current timestamp to the console."
   ]
  },
  {
   "cell_type": "code",
   "execution_count": null,
   "id": "30148f2c-57a3-4f81-b743-4a8a38293130",
   "metadata": {},
   "outputs": [],
   "source": [
    "# Solution - enter your code solution below.\n",
    "# you will need the datetime module.\n",
    "from datetime import datetime\n",
    "import tkinter as tk\n",
    "\n",
    "# to get the timestamp use this code: timestamp = datetime.now().strftime(\"%Y-%m-%d %H:%M:%S\")\n"
   ]
  },
  {
   "cell_type": "code",
   "execution_count": null,
   "id": "b42c811e-5a46-4a3b-ae80-0ab224354477",
   "metadata": {
    "tags": []
   },
   "outputs": [],
   "source": [
    "# Solution - enter your code solution below\n"
   ]
  },
  {
   "cell_type": "markdown",
   "id": "e7b8e9e9-021d-40c0-a2ca-27f40c5c5e3c",
   "metadata": {
    "jp-MarkdownHeadingCollapsed": true
   },
   "source": [
    "### Notebook Instructions\n",
    "> Before turning in your notebook:\n",
    "> 1. Make sure you have renamed the notebook file as instructed\n",
    "> 2. Make sure you have included your signature block and that it is correct according to the instructions\n",
    "> 3. comment your code as necessary\n",
    "> 4. run all code cells and double check that they run correctly<br><br>\n",
    "Turn in your notebook by uploading it to ELMS<br>\n",
    "IF the exercises involve saved data files, put your notebook and the data file(s) in a zip folder and upload the zip folder to ELMS"
   ]
  }
 ],
 "metadata": {
  "kernelspec": {
   "display_name": "Python 3 (ipykernel)",
   "language": "python",
   "name": "python3"
  },
  "language_info": {
   "codemirror_mode": {
    "name": "ipython",
    "version": 3
   },
   "file_extension": ".py",
   "mimetype": "text/x-python",
   "name": "python",
   "nbconvert_exporter": "python",
   "pygments_lexer": "ipython3",
   "version": "3.12.4"
  }
 },
 "nbformat": 4,
 "nbformat_minor": 5
}
