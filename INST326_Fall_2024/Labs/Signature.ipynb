{
 "cells": [
  {
   "cell_type": "markdown",
   "id": "c6a19857-f212-4e6e-aba5-593469c67e4a",
   "metadata": {},
   "source": [
    "In the cell below complete your signature block. This signature block is to be included in every lab and project submission. Failure to include a correctly formatted signature block will result in loss of points on the assignment.  \n",
    "> 1. Insert your name and add your four digit section number. These will not change for the rest of the semester.\n",
    "> 2. Insert the 4-digit PIN number you chose and submitted. This will not change for the rest of the semester.  \n",
    "> 3. **Your name and PIN number represent your \"signature\" or acknowledgement of the pledge and certification that it is true.**\n",
    "> 4. Copy and paste this signature block into each lab or project submission you turn in.\n",
    "> 5. Once you have added the signature block to your assignment, enter the group information (if applicable), the assignment number (for example Lab 01W02), and the project due date.  \n",
    "> 6. Finally, if you received any substantive help or used any generative AI resource (like chat GPT), describe that assistance in the disclosures section. See the course policy on generative AI for further guidance on what should be disclosed.\n",
    "\n"
   ]
  },
  {
   "cell_type": "markdown",
   "id": "5e0ab879-d09f-463d-a0dd-cbf7682b3d2f",
   "metadata": {},
   "source": [
    "### Your Name\n",
    "> INST326 Section ####  \n",
    "> Group number / name if applicable  \n",
    "> Assignment  \n",
    "> Date Due  \n",
    "> PIN  \n",
    "#### Honor Pledge\n",
    "> I pledge that the work contained in this assignment is my own...\n",
    "#### Disclosures\n",
    "> None."
   ]
  }
 ],
 "metadata": {
  "kernelspec": {
   "display_name": "Python 3 (ipykernel)",
   "language": "python",
   "name": "python3"
  },
  "language_info": {
   "codemirror_mode": {
    "name": "ipython",
    "version": 3
   },
   "file_extension": ".py",
   "mimetype": "text/x-python",
   "name": "python",
   "nbconvert_exporter": "python",
   "pygments_lexer": "ipython3",
   "version": "3.12.4"
  }
 },
 "nbformat": 4,
 "nbformat_minor": 5
}
