{
 "cells": [
  {
   "cell_type": "markdown",
   "id": "4349ebbb-132a-422b-b785-dc6d3b84368e",
   "metadata": {},
   "source": [
    "### An Object-Oriented Perspective on Input / Output in Python"
   ]
  },
  {
   "cell_type": "markdown",
   "id": "08cb96c4-eb06-4fc8-b113-a1df93d917e9",
   "metadata": {},
   "source": [
    "Saving and reading data to files in python is part of its core functionality. In introductory python courses file I/O (reading and writing) is typically taught as a distinct topic. Databases, and accessing network and web resources through APIs for example, are also taught as distinct topics. However, when we look at these from an object-oriented programming perspective, more similarities become apparent. We see that the programming creates file objects, database objects, and web resource objects. These objects are known more generally as context managers. context managers do not contain the contents of the files or databases or websites. Rather, they create or open a stable connection to the resource, manage our interaction with it, and close it when we are finished. This is the perspective we will take this week and throughout this course. "
   ]
  },
  {
   "cell_type": "markdown",
   "id": "0090e64d-dde9-4b1a-8501-c0752aba97e1",
   "metadata": {},
   "source": [
    "To illustrate this, lets first look at opening, reading, writing, and appending a file without a context manager."
   ]
  },
  {
   "cell_type": "code",
   "execution_count": null,
   "id": "c60004a0-a9ed-4af1-aa7a-978a3b5ca01b",
   "metadata": {},
   "outputs": [],
   "source": [
    "# read a file\n",
    "file = open('week04ex01.txt', 'r')\n",
    "try:\n",
    "    data = file.read()\n",
    "    print(data)\n",
    "finally:\n",
    "    file.close()\n"
   ]
  },
  {
   "cell_type": "code",
   "execution_count": null,
   "id": "08dcd63c-7028-46c6-a055-000ef64b3e36",
   "metadata": {},
   "outputs": [],
   "source": [
    "# write a file\n",
    "file = open('week04ex02.txt', 'w')\n",
    "try:\n",
    "    file.write(data)\n",
    "    file.write(\"\\nThis file is written without a context manager.\\n\")\n",
    "finally:\n",
    "    file.close()"
   ]
  },
  {
   "cell_type": "code",
   "execution_count": null,
   "id": "b23ce70a-7f2d-4e65-a17e-281eb29aeac1",
   "metadata": {},
   "outputs": [],
   "source": [
    "# append a file\n",
    "file = open('week04ex02.txt', 'a')\n",
    "try:\n",
    "    file.write(\"Appending a new line to the file.\\n\")\n",
    "finally:\n",
    "    file.close()"
   ]
  },
  {
   "cell_type": "code",
   "execution_count": null,
   "id": "f5306867-0b3b-48e8-9662-d21df8318255",
   "metadata": {},
   "outputs": [],
   "source": [
    "# now open with a context manager\n",
    "with open('week04ex02.txt', 'r') as file:\n",
    "    data = file.read()\n",
    "    print(data)\n",
    "# File is automatically closed here"
   ]
  },
  {
   "cell_type": "markdown",
   "id": "baf8be92-c3e4-41c2-903a-8e98999c192b",
   "metadata": {},
   "source": [
    "#### File Types\n",
    "Common data file types include .txt, .csv, .json, and .xml. There are modules for working with different data types (these and others). Images are stored and read as binary files. Use a rendering module like pillow to display the image on the screen."
   ]
  },
  {
   "cell_type": "markdown",
   "id": "f00f7649-135a-4775-baaa-48fe14ef6f35",
   "metadata": {},
   "source": [
    "#### read and display an image file"
   ]
  },
  {
   "cell_type": "code",
   "execution_count": null,
   "id": "cedfca66-013a-41f8-9113-86ffbc372dbe",
   "metadata": {},
   "outputs": [],
   "source": [
    "# Open the image file in binary mode and print the first 100 bytes\n",
    "with open('IMG_20240913_141204_482.jpg', 'rb') as file:\n",
    "    binary_data = file.read()\n",
    "    # Print the first 100 bytes of the binary data\n",
    "    print(binary_data[:100])\n"
   ]
  },
  {
   "cell_type": "code",
   "execution_count": null,
   "id": "c63fa202-1dd3-456c-8720-7f8439ffc99d",
   "metadata": {},
   "outputs": [],
   "source": [
    "from PIL import Image\n",
    "# Open and display the image using Pillow\n",
    "image = Image.open('IMG_20240913_141204_482.jpg')\n",
    "image.show()"
   ]
  },
  {
   "cell_type": "markdown",
   "id": "df8a8456-6f58-400f-8ccf-1d4d0896bd2e",
   "metadata": {},
   "source": [
    "#### Why Use Context Managers?\n",
    "    Automatic resource management\n",
    "    Ensuring files are properly closed even in the case of errors  \n",
    "\n",
    "#### Benefits\n",
    "    Cleaner code\n",
    "    Reduced risk of resource leaks"
   ]
  },
  {
   "cell_type": "code",
   "execution_count": null,
   "id": "f8cf6170-dd79-408f-8e1f-4b56503a6da6",
   "metadata": {},
   "outputs": [],
   "source": [
    "with open('week04ex02.txt', 'r') as file:\n",
    "    print(dir(file))"
   ]
  },
  {
   "cell_type": "markdown",
   "id": "29df356a-cc7f-4341-8bd9-e62b872ec005",
   "metadata": {},
   "source": [
    "the 'dir' keyword shows the variables and methods that are part of the 'file' object. The 'file' object was created using the 'with' and 'as' keywords. The 'file' object is the actual context manager. It does not contain the contents of the file we want to work with. Rather, it manages the file connection and how we interact with the file."
   ]
  },
  {
   "cell_type": "markdown",
   "id": "d209e18b-54e6-4589-9444-ce4658e16f0f",
   "metadata": {},
   "source": [
    "Two important methods in our context manager are '__enter__' and '__exit__'. These methods handle the opening and closing of the file. We could use these to create a custom file manager class if we wanted:"
   ]
  },
  {
   "cell_type": "code",
   "execution_count": null,
   "id": "3be2cca5-48d3-4874-8671-3a585d2fb0f7",
   "metadata": {},
   "outputs": [],
   "source": [
    "class FileManager:\n",
    "    def __init__(self, filename, mode):\n",
    "        self.filename = filename\n",
    "        self.mode = mode\n",
    "        self.file = None\n",
    "    \n",
    "    def __enter__(self):\n",
    "        self.file = open(self.filename, self.mode)\n",
    "        return self.file\n",
    "    \n",
    "    def __exit__(self, exc_type, exc_val, exc_tb):\n",
    "        if self.file:\n",
    "            self.file.close()\n",
    "\n",
    "with FileManager('week04ex03.txt', 'w') as f:\n",
    "    f.write('Our custom file manager is cool')\n"
   ]
  },
  {
   "cell_type": "code",
   "execution_count": null,
   "id": "c9b2d4be-6213-416c-a5f7-9e7afdb3987a",
   "metadata": {},
   "outputs": [],
   "source": [
    "with FileManager('week04ex03.txt', 'r') as f:\n",
    "    data = f.read()\n",
    "    print(data)"
   ]
  },
  {
   "cell_type": "markdown",
   "id": "deef0bae-4e72-43cd-bf5a-6f223700ef60",
   "metadata": {},
   "source": [
    "There are libraries (modules) available for building custom context managers if you need to. For example:"
   ]
  },
  {
   "cell_type": "code",
   "execution_count": null,
   "id": "346ffd63-818f-47a5-b178-fb7a3b26d3f8",
   "metadata": {},
   "outputs": [],
   "source": [
    "from contextlib import contextmanager\n",
    "\n",
    "@contextmanager   # this is a decorator\n",
    "def open_file(file, mode):\n",
    "    f = open(file, mode)\n",
    "    try:\n",
    "        yield f \n",
    "    finally:\n",
    "        f.close()\n",
    "\n",
    "with open_file('week04ex03.txt', 'a') as f:\n",
    "    f.write('now using contextlib!')\n"
   ]
  },
  {
   "cell_type": "code",
   "execution_count": null,
   "id": "f295ee20-c7be-4fbb-afad-9b3026ceaeb1",
   "metadata": {},
   "outputs": [],
   "source": [
    "with open_file('week04ex03.txt', 'r') as f:\n",
    "    data = f.read()\n",
    "    print(data)"
   ]
  },
  {
   "cell_type": "markdown",
   "id": "f8ed45b7-001a-4f3f-adb1-5398fe0879cf",
   "metadata": {},
   "source": [
    "In the code above you should notice two things: '@contextmanager' is what we call a decorator. You shoud learn more about decorators on your own. The second thing is the 'yield' keyword. yield is used to return a list of values from a function. You should learn more about this on your own. Both of these are intermediate - advanced programming concepts in python."
   ]
  },
  {
   "cell_type": "markdown",
   "id": "47a969b2-8ebb-4ecf-a772-22494062e15b",
   "metadata": {},
   "source": [
    "### Beyond files: Databases"
   ]
  },
  {
   "cell_type": "markdown",
   "id": "d4348ebd-7897-447c-9e7d-f4f2e357454c",
   "metadata": {},
   "source": [
    "Python has sqlite built in, and there is a module for working with sqlite databases (sqlite3)."
   ]
  },
  {
   "cell_type": "markdown",
   "id": "5fe725bb-2782-417e-afb5-cd9533bf6569",
   "metadata": {},
   "source": [
    "From the input / output perspective, context managers behave in similar ways. They manage the database resource. Here is a simple example. You should learn more about sqlite and sqlite3 on your own."
   ]
  },
  {
   "cell_type": "code",
   "execution_count": null,
   "id": "6d2a83da-a087-4d2e-bcdb-fdbe29a2bf03",
   "metadata": {},
   "outputs": [],
   "source": [
    "import sqlite3\n",
    "\n",
    "class DatabaseManager:\n",
    "    def __init__(self, db_name):\n",
    "        self.db_name = db_name\n",
    "    \n",
    "    def __enter__(self):\n",
    "        self.conn = sqlite3.connect(self.db_name)\n",
    "        self.cursor = self.conn.cursor()\n",
    "        return self.cursor\n",
    "    \n",
    "    def __exit__(self, exc_type, exc_val, exc_tb):\n",
    "        if exc_type is not None:\n",
    "            self.conn.rollback()\n",
    "        else:\n",
    "            self.conn.commit()\n",
    "        self.conn.close()\n",
    "\n",
    "with DatabaseManager('example.db') as db:\n",
    "    db.execute('CREATE TABLE IF NOT EXISTS users (id INTEGER PRIMARY KEY, name TEXT)')\n",
    "    db.execute('INSERT INTO users (name) VALUES (?)', ('Alice',))\n"
   ]
  },
  {
   "cell_type": "code",
   "execution_count": null,
   "id": "4afeb16d-fc3e-494d-b6fa-fec4040232c8",
   "metadata": {},
   "outputs": [],
   "source": [
    "import sqlite3\n",
    "# code without a context manager\n",
    "# Connect to the SQLite database (create a new one if it doesn't exist)\n",
    "conn = sqlite3.connect('example.db')\n",
    "\n",
    "try:\n",
    "    # Create a cursor object to interact with the database\n",
    "    cursor = conn.cursor()\n",
    "    \n",
    "    # Execute a SELECT query to retrieve data from the 'users' table\n",
    "    cursor.execute('SELECT * FROM users')\n",
    "    \n",
    "    # Fetch all rows from the result of the query\n",
    "    users = cursor.fetchall()\n",
    "    \n",
    "    # Print each row\n",
    "    for user in users:\n",
    "        print(f\"ID: {user[0]}, Name: {user[1]}\")\n",
    "finally:\n",
    "    # Close the database connection\n",
    "    conn.close()\n"
   ]
  },
  {
   "cell_type": "markdown",
   "id": "e60e034f-4b78-4720-96ca-3e1d082f2c9b",
   "metadata": {},
   "source": [
    "#### Cursor Objects and Context Managers\n",
    "While sqlite3 connections support context managers, cursor objects do not. You still need to manage cursors within the with block and close them explicitly if necessary. However, using the connection as a context manager is usually sufficient for many use cases since it manages transactions and connections effectively."
   ]
  },
  {
   "cell_type": "markdown",
   "id": "86da777f-0a17-4ba5-860f-16db4411d901",
   "metadata": {},
   "source": [
    "### Beyond files: Web resources"
   ]
  },
  {
   "cell_type": "markdown",
   "id": "56d8a085-beb0-4109-85be-86a478e70738",
   "metadata": {},
   "source": [
    "The requests module is useful in getting data from websites, and it has a built-in context manager."
   ]
  },
  {
   "cell_type": "markdown",
   "id": "491fd1a6-5bbb-4540-a230-cd00157e0a71",
   "metadata": {},
   "source": [
    "Using requests.Session() as a Context Manager"
   ]
  },
  {
   "cell_type": "code",
   "execution_count": null,
   "id": "5641b9d5-1cfd-49b5-8fd0-ca650586c058",
   "metadata": {
    "scrolled": true
   },
   "outputs": [],
   "source": [
    "import requests\n",
    "\n",
    "# Using requests.Session as a context manager\n",
    "with requests.Session() as session:\n",
    "    response = session.get('https://dummyapi.online/api/movies')\n",
    "    print(response.json())\n",
    "\n",
    "# The session is automatically closed here\n",
    "\n",
    "# This uses data from https://dummyapi.online/. Check it out.\n"
   ]
  },
  {
   "cell_type": "code",
   "execution_count": null,
   "id": "dfbb0c9a-b240-4d53-b453-a5f7b0b431e4",
   "metadata": {
    "scrolled": true
   },
   "outputs": [],
   "source": [
    "import requests\n",
    "\n",
    "# Using requests.Session as a context manager\n",
    "with requests.Session() as session:\n",
    "    for movie in range(1, 5):\n",
    "        response = session.get(f'https://dummyapi.online/api/movies/{movie}')\n",
    "        print(response.json())\n",
    "\n",
    "# The session is automatically closed here\n",
    "\n",
    "# This uses data from https://dummyapi.online/. Check it out.\n"
   ]
  },
  {
   "attachments": {
    "81b43466-773e-4c1d-b67d-55d539a7c372.png": {
     "image/png": "[encoded data removed]"
    }
   },
   "cell_type": "markdown",
   "id": "f657748f-b79b-4035-9321-fe3eb895561d",
   "metadata": {},
   "source": [
    "![image.png](attachment:81b43466-773e-4c1d-b67d-55d539a7c372.png)"
   ]
  },
  {
   "cell_type": "markdown",
   "id": "03e281e4-a0ed-473f-be6c-347f406a4ffa",
   "metadata": {},
   "source": [
    "### Output"
   ]
  },
  {
   "cell_type": "markdown",
   "id": "69a5e5a6-4159-41ae-bc8f-72197295b242",
   "metadata": {},
   "source": [
    "Most of our output has been sent to the console (screen), but there are many thing we can do with output from our programs.\n",
    "    1. Console output\n",
    "    2. Files\n",
    "    3. Network Sockets\n",
    "    4. Serial ports (e.g. Arduino)\n",
    "    5. Printers\n",
    "    6. GUI Components\n",
    "    7. Remote Servers\n",
    "Most of these use specialized modules to handle connections and manage resources."
   ]
  },
  {
   "cell_type": "markdown",
   "id": "07b6f4cd-f9c8-4e42-bd09-c9b5566ef155",
   "metadata": {},
   "source": [
    "This lecture prepared with the assistance of OpenAI. (2024). ChatGPT model (GPT-4) [Computer software]. https://chat.openai.com/ last accessed September 17, 2024."
   ]
  },
  {
   "cell_type": "code",
   "execution_count": null,
   "id": "37eb6058-6552-4054-a123-e5c157745f23",
   "metadata": {},
   "outputs": [],
   "source": []
  }
 ],
 "metadata": {
  "kernelspec": {
   "display_name": "Python 3 (ipykernel)",
   "language": "python",
   "name": "python3"
  },
  "language_info": {
   "codemirror_mode": {
    "name": "ipython",
    "version": 3
   },
   "file_extension": ".py",
   "mimetype": "text/x-python",
   "name": "python",
   "nbconvert_exporter": "python",
   "pygments_lexer": "ipython3",
   "version": "3.12.4"
  }
 },
 "nbformat": 4,
 "nbformat_minor": 5
}
