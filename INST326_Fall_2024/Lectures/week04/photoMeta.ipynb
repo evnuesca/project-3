{
 "cells": [
  {
   "cell_type": "code",
   "execution_count": null,
   "id": "d64375f5-4086-4a00-bf8d-60b23ab4db76",
   "metadata": {},
   "outputs": [
    {
     "name": "stdout",
     "output_type": "stream",
     "text": [
      "[100/13104] Processed: G:\\My Drive\\03 Personal\\04 Pictures\\Images (1)\\DCIM\\Camera\\0107131542.jpg\n"
     ]
    },
    {
     "name": "stderr",
     "output_type": "stream",
     "text": [
      "C:\\Users\\sdemp\\anaconda3\\Lib\\site-packages\\exif\\_image.py:171: RuntimeWarning: ASCII tag contains -1 fewer bytes than specified\n",
      "  retval = getattr(self, attribute)\n",
      "C:\\Users\\sdemp\\anaconda3\\Lib\\site-packages\\exif\\_image.py:171: RuntimeWarning: ASCII tag contains 1 fewer bytes than specified\n",
      "  retval = getattr(self, attribute)\n"
     ]
    },
    {
     "name": "stdout",
     "output_type": "stream",
     "text": [
      "[200/13104] Processed: G:\\My Drive\\03 Personal\\04 Pictures\\Images (1)\\DCIM\\Camera\\0517131112.jpg\n",
      "[300/13104] Processed: G:\\My Drive\\03 Personal\\04 Pictures\\Images (1)\\DCIM\\Camera\\0719131625.jpg\n"
     ]
    },
    {
     "name": "stderr",
     "output_type": "stream",
     "text": [
      "C:\\Users\\sdemp\\anaconda3\\Lib\\site-packages\\exif\\_image.py:171: RuntimeWarning: ASCII tag contains 3 fewer bytes than specified\n",
      "  retval = getattr(self, attribute)\n"
     ]
    },
    {
     "name": "stdout",
     "output_type": "stream",
     "text": [
      "[400/13104] Processed: G:\\My Drive\\03 Personal\\04 Pictures\\Images (1)\\DCIM\\Camera\\0108142056.jpg\n",
      "[500/13104] Processed: G:\\My Drive\\03 Personal\\04 Pictures\\Images (1)\\DCIM\\Camera\\0321141625.jpg\n",
      "[600/13104] Processed: G:\\My Drive\\03 Personal\\04 Pictures\\Images (1)\\DCIM\\Camera\\0904141700b.jpg\n",
      "[700/13104] Processed: G:\\My Drive\\03 Personal\\04 Pictures\\Images (1)\\DCIM\\Camera\\0407150941.jpg\n",
      "[800/13104] Processed: G:\\My Drive\\03 Personal\\04 Pictures\\Images (1)\\DCIM\\.thumbnails\\1387031157976.jpg\n",
      "[900/13104] Processed: G:\\My Drive\\03 Personal\\04 Pictures\\Images (1)\\DCIM\\.thumbnails\\1387031222623.jpg\n",
      "[1000/13104] Processed: G:\\My Drive\\03 Personal\\04 Pictures\\Images (1)\\DCIM\\.thumbnails\\1387031256547.jpg\n",
      "[1100/13104] Processed: G:\\My Drive\\03 Personal\\04 Pictures\\Images (1)\\DCIM\\.thumbnails\\1386246515581.jpg\n",
      "[1200/13104] Processed: G:\\My Drive\\03 Personal\\04 Pictures\\Images (1)\\DCIM\\.thumbnails\\1394383606252.jpg\n",
      "[1300/13104] Processed: G:\\My Drive\\03 Personal\\04 Pictures\\Images (1)\\DCIM\\.thumbnails\\1413335983175.jpg\n",
      "[1400/13104] Processed: G:\\My Drive\\03 Personal\\04 Pictures\\Images (1)\\DCIM\\Facebook\\IMG_327892944714238.jpeg\n"
     ]
    },
    {
     "name": "stderr",
     "output_type": "stream",
     "text": [
      "C:\\Users\\sdemp\\anaconda3\\Lib\\site-packages\\exif\\_image.py:171: RuntimeWarning: ASCII tag contains 0 fewer bytes than specified\n",
      "  retval = getattr(self, attribute)\n"
     ]
    },
    {
     "name": "stdout",
     "output_type": "stream",
     "text": [
      "[1600/13104] Processed: G:\\My Drive\\03 Personal\\04 Pictures\\Loose\\table_5914.jpg\n"
     ]
    },
    {
     "name": "stderr",
     "output_type": "stream",
     "text": [
      "C:\\Users\\sdemp\\anaconda3\\Lib\\site-packages\\exif\\_image.py:171: RuntimeWarning: ASCII tag contains 5 fewer bytes than specified\n",
      "  retval = getattr(self, attribute)\n"
     ]
    },
    {
     "name": "stdout",
     "output_type": "stream",
     "text": [
      "[1700/13104] Processed: G:\\My Drive\\03 Personal\\04 Pictures\\Loose\\IMG_1674.JPG\n",
      "[1800/13104] Processed: G:\\My Drive\\03 Personal\\04 Pictures\\Images\\jfiocca-20141215111343.jpg\n",
      "[2000/13104] Processed: G:\\My Drive\\03 Personal\\04 Pictures\\Images\\recovered photos\\IMG6.jpg\n"
     ]
    },
    {
     "name": "stderr",
     "output_type": "stream",
     "text": [
      "C:\\Users\\sdemp\\anaconda3\\Lib\\site-packages\\exif\\_app1_metadata.py:476: RuntimeWarning: skipping bad IFD 1\n",
      "  warnings.warn(f\"skipping bad IFD {ifd_key}\", RuntimeWarning)\n",
      "C:\\Users\\sdemp\\anaconda3\\Lib\\site-packages\\exif\\_image.py:171: RuntimeWarning: ASCII tag contains 2 fewer bytes than specified\n",
      "  retval = getattr(self, attribute)\n"
     ]
    },
    {
     "name": "stdout",
     "output_type": "stream",
     "text": [
      "[2100/13104] Processed: G:\\My Drive\\03 Personal\\04 Pictures\\Images\\recovered photos\\greenway 020.jpg\n",
      "[2200/13104] Processed: G:\\My Drive\\03 Personal\\04 Pictures\\Images\\recovered photos\\P8030204.jpg\n",
      "[2300/13104] Processed: G:\\My Drive\\03 Personal\\04 Pictures\\Images\\recovered photos\\portland 079.jpg\n",
      "[2400/13104] Processed: G:\\My Drive\\03 Personal\\04 Pictures\\Images\\recovered photos\\20060908\\20060908 026.jpg\n",
      "[2500/13104] Processed: G:\\My Drive\\03 Personal\\04 Pictures\\Images\\recovered photos\\20060908\\20060908 126.jpg\n",
      "[2600/13104] Processed: G:\\My Drive\\03 Personal\\04 Pictures\\Images\\recovered photos\\20060908\\20060908 301.jpg\n",
      "[2700/13104] Processed: G:\\My Drive\\03 Personal\\04 Pictures\\Images\\recovered photos\\20060929\\20060929 020.jpg\n",
      "[2800/13104] Processed: G:\\My Drive\\03 Personal\\04 Pictures\\Images\\recovered photos\\2006_07_05\\IMG_3762.JPG\n",
      "[2900/13104] Processed: G:\\My Drive\\03 Personal\\04 Pictures\\Images\\recovered photos\\2006_07_18\\IMG_3828_1.JPG\n",
      "[3000/13104] Processed: G:\\My Drive\\03 Personal\\04 Pictures\\Images\\recovered photos\\2006_07_18\\IMG_3905_1.JPG\n",
      "[3100/13104] Processed: G:\\My Drive\\03 Personal\\04 Pictures\\Images\\recovered photos\\2006_07_18\\IMG_3861.JPG\n",
      "[3200/13104] Processed: G:\\My Drive\\03 Personal\\04 Pictures\\Images\\recovered photos\\2006_08_05\\IMG_4004.JPG\n",
      "[3300/13104] Processed: G:\\My Drive\\03 Personal\\04 Pictures\\Images\\recovered photos\\2007-06 (Jun)\\IMG_4693.JPG\n",
      "[3400/13104] Processed: G:\\My Drive\\03 Personal\\04 Pictures\\Images\\recovered photos\\2007_06_16\\IMG_4780.JPG\n",
      "[3500/13104] Processed: G:\\My Drive\\03 Personal\\04 Pictures\\Images\\recovered photos\\2008-03 (Mar)\\IMG_4887.JPG\n",
      "[3600/13104] Processed: G:\\My Drive\\03 Personal\\04 Pictures\\Images\\recovered photos\\2008-08 (Aug)\\IMG_4995.JPG\n",
      "[3700/13104] Processed: G:\\My Drive\\03 Personal\\04 Pictures\\Images\\recovered photos\\2009_08_01\\IMG_5414.JPG\n",
      "[3800/13104] Processed: G:\\My Drive\\03 Personal\\04 Pictures\\Images\\recovered photos\\2009_08_02\\IMG_5527.JPG\n",
      "[3900/13104] Processed: G:\\My Drive\\03 Personal\\04 Pictures\\Images\\recovered photos\\Chris\\zsnesw142\\docs\\images\\misc.png\n",
      "[4000/13104] Processed: G:\\My Drive\\03 Personal\\04 Pictures\\Images\\recovered photos\\deep_creek\\2008_08_09\\IMG_5153.JPG\n",
      "[4100/13104] Processed: G:\\My Drive\\03 Personal\\04 Pictures\\Images\\recovered photos\\pics\\IMG_2777.JPG\n"
     ]
    },
    {
     "name": "stderr",
     "output_type": "stream",
     "text": [
      "C:\\Users\\sdemp\\anaconda3\\Lib\\site-packages\\exif\\_image.py:171: RuntimeWarning: ASCII tag contains 8 fewer bytes than specified\n",
      "  retval = getattr(self, attribute)\n"
     ]
    },
    {
     "name": "stdout",
     "output_type": "stream",
     "text": [
      "[4200/13104] Processed: G:\\My Drive\\03 Personal\\04 Pictures\\Images\\recovered photos\\2008_08_08\\IMG_5113.JPG\n",
      "[4300/13104] Processed: G:\\My Drive\\03 Personal\\04 Pictures\\Images\\recovered photos\\2008_08_07\\IMG_5040.JPG\n",
      "[4400/13104] Processed: G:\\My Drive\\03 Personal\\04 Pictures\\Images\\recovered photos\\2007_03_06\\2006-12 (Dec)\\IMG_4620.JPG\n",
      "[4500/13104] Processed: G:\\My Drive\\03 Personal\\04 Pictures\\Images\\recovered photos\\2006_06_19\\IMG_3693.JPG\n",
      "[4600/13104] Processed: G:\\My Drive\\03 Personal\\04 Pictures\\From Desktop\\2017-02\\IMG_0930 (2).JPG\n",
      "[4700/13104] Processed: G:\\My Drive\\03 Personal\\04 Pictures\\From Desktop\\2017-06\\IMG-20170608-WA0001.jpeg\n"
     ]
    },
    {
     "name": "stderr",
     "output_type": "stream",
     "text": [
      "C:\\Users\\sdemp\\anaconda3\\Lib\\site-packages\\exif\\_image.py:171: RuntimeWarning: ASCII tag contains 19 fewer bytes than specified\n",
      "  retval = getattr(self, attribute)\n"
     ]
    },
    {
     "name": "stdout",
     "output_type": "stream",
     "text": [
      "[4800/13104] Processed: G:\\My Drive\\03 Personal\\04 Pictures\\From Desktop\\2016-10\\20160530_085441.jpg\n",
      "[4900/13104] Processed: G:\\My Drive\\03 Personal\\04 Pictures\\From Desktop\\2016-10\\20160208_141338.jpg\n",
      "[5000/13104] Processed: G:\\My Drive\\03 Personal\\04 Pictures\\From Desktop\\2016-10\\20151122_202151.jpg\n",
      "[5100/13104] Processed: G:\\My Drive\\03 Personal\\04 Pictures\\From Desktop\\2016-10\\20160830_113822.jpg\n",
      "[5200/13104] Processed: G:\\My Drive\\03 Personal\\04 Pictures\\From Desktop\\2016-10\\20151226_145943.jpg\n",
      "[5300/13104] Processed: G:\\My Drive\\03 Personal\\04 Pictures\\From Desktop\\2017-11\\20171123_132008.jpg\n",
      "[5400/13104] Processed: G:\\My Drive\\03 Personal\\04 Pictures\\From Desktop\\Moved\\20150724_213302.jpg\n",
      "[5500/13104] Processed: G:\\My Drive\\03 Personal\\04 Pictures\\From Desktop\\Moved\\20150814_174333.jpg\n",
      "[5600/13104] Processed: G:\\My Drive\\03 Personal\\04 Pictures\\From Desktop\\Moved\\20151126_161634.jpg\n",
      "[5700/13104] Processed: G:\\My Drive\\03 Personal\\04 Pictures\\ireland\\IMG_0428.JPG\n",
      "[5800/13104] Processed: G:\\My Drive\\03 Personal\\04 Pictures\\ireland\\IMG_0528.JPG\n",
      "[5900/13104] Processed: G:\\My Drive\\03 Personal\\04 Pictures\\ireland\\IMG_0628.JPG\n",
      "[6000/13104] Processed: G:\\My Drive\\03 Personal\\04 Pictures\\ireland\\IMG_0728.JPG\n",
      "[6100/13104] Processed: G:\\My Drive\\03 Personal\\04 Pictures\\ireland\\IMG_0828.JPG\n",
      "[6200/13104] Processed: G:\\My Drive\\03 Personal\\04 Pictures\\phone pictures\\20161117_195841.jpg\n",
      "[6400/13104] Processed: G:\\My Drive\\03 Personal\\04 Pictures\\phone pictures\\20170530_165854.jpg\n",
      "[6500/13104] Processed: G:\\My Drive\\03 Personal\\04 Pictures\\phone pictures\\20170603_162838.jpg\n",
      "[6600/13104] Processed: G:\\My Drive\\03 Personal\\04 Pictures\\phone pictures\\Samsung Galaxy S8\\20200607_150644.jpg\n",
      "[6700/13104] Processed: G:\\My Drive\\03 Personal\\04 Pictures\\phone pictures\\Pictures\\Instagram\\IMG_20190427_171930_235.jpg\n",
      "[6800/13104] Processed: G:\\My Drive\\03 Personal\\04 Pictures\\phone pictures\\Pictures\\Twitter\\IMG_20200423_001446.jpg\n",
      "[6900/13104] Processed: G:\\My Drive\\03 Personal\\04 Pictures\\PICS\\20170725_161753.jpg\n",
      "[7000/13104] Processed: G:\\My Drive\\03 Personal\\04 Pictures\\summer 2017\\Canon\\IMG_0048.JPG\n",
      "[7100/13104] Processed: G:\\My Drive\\03 Personal\\04 Pictures\\summer 2017\\Canon\\IMG_0155.JPG\n",
      "[7200/13104] Processed: G:\\My Drive\\03 Personal\\04 Pictures\\summer 2017\\Canon\\IMG_0255.JPG\n",
      "[7300/13104] Processed: G:\\My Drive\\03 Personal\\04 Pictures\\summer 2017\\Canon\\IMG_0355.JPG\n",
      "[7400/13104] Processed: G:\\My Drive\\03 Personal\\04 Pictures\\summer 2017\\summer 2017\\IMG_0956.JPG\n",
      "[7500/13104] Processed: G:\\My Drive\\03 Personal\\04 Pictures\\summer 2017\\summer 2017\\IMG_1057.JPG\n",
      "[7600/13104] Processed: G:\\My Drive\\03 Personal\\04 Pictures\\eclipse\\IMG_1160.JPG\n",
      "[7700/13104] Processed: G:\\My Drive\\03 Personal\\04 Pictures\\Pictures for Christmas Eve2018ver2\\20151126_161923.jpg\n",
      "[7800/13104] Processed: G:\\My Drive\\03 Personal\\04 Pictures\\Pictures for Christmas Eve2018ver2\\P8190322.JPG\n",
      "[7900/13104] Processed: G:\\My Drive\\03 Personal\\04 Pictures\\My Pictures\\greenway 028.jpg\n",
      "[8000/13104] Processed: G:\\My Drive\\03 Personal\\04 Pictures\\My Pictures\\P8030244.jpg\n",
      "[8100/13104] Processed: G:\\My Drive\\03 Personal\\04 Pictures\\My Pictures\\portland 096.jpg\n",
      "[8200/13104] Processed: G:\\My Drive\\03 Personal\\04 Pictures\\My Pictures\\20060908\\20060908 043.jpg\n",
      "[8300/13104] Processed: G:\\My Drive\\03 Personal\\04 Pictures\\My Pictures\\20060908\\20060908 143.jpg\n",
      "[8400/13104] Processed: G:\\My Drive\\03 Personal\\04 Pictures\\My Pictures\\20060908\\20060908 318.jpg\n",
      "[8500/13104] Processed: G:\\My Drive\\03 Personal\\04 Pictures\\My Pictures\\20060929\\20060929 037.jpg\n",
      "[8600/13104] Processed: G:\\My Drive\\03 Personal\\04 Pictures\\My Pictures\\2006_06_19\\IMG_3696.JPG\n",
      "[8700/13104] Processed: G:\\My Drive\\03 Personal\\04 Pictures\\My Pictures\\2006_07_05\\IMG_3789.JPG\n",
      "[8800/13104] Processed: G:\\My Drive\\03 Personal\\04 Pictures\\My Pictures\\2006_07_18\\IMG_3883_1.JPG\n",
      "[8900/13104] Processed: G:\\My Drive\\03 Personal\\04 Pictures\\My Pictures\\2006_07_18\\IMG_3935_1.JPG\n",
      "[9000/13104] Processed: G:\\My Drive\\03 Personal\\04 Pictures\\My Pictures\\2006_08_05\\IMG_3950.JPG\n",
      "[9100/13104] Processed: G:\\My Drive\\03 Personal\\04 Pictures\\My Pictures\\2007-04 (Apr)\\IMG_4657.JPG\n",
      "[9200/13104] Processed: G:\\My Drive\\03 Personal\\04 Pictures\\My Pictures\\2007_03_06\\2006-12 (Dec)\\IMG_4592.JPG\n",
      "[9300/13104] Processed: G:\\My Drive\\03 Personal\\04 Pictures\\My Pictures\\2007_06_16\\IMG_4790.JPG\n",
      "[9400/13104] Processed: G:\\My Drive\\03 Personal\\04 Pictures\\My Pictures\\2008-03 (Mar)\\IMG_4844.JPG\n",
      "[9500/13104] Processed: G:\\My Drive\\03 Personal\\04 Pictures\\My Pictures\\2008-05 (May)\\IMG_4956.JPG\n",
      "[9600/13104] Processed: G:\\My Drive\\03 Personal\\04 Pictures\\My Pictures\\2008_08_07\\IMG_5057.JPG\n",
      "[9700/13104] Processed: G:\\My Drive\\03 Personal\\04 Pictures\\My Pictures\\2008_08_08\\IMG_5124.JPG\n",
      "[9800/13104] Processed: G:\\My Drive\\03 Personal\\04 Pictures\\My Pictures\\2008_10_11\\IMG_5224.JPG\n",
      "[9900/13104] Processed: G:\\My Drive\\03 Personal\\04 Pictures\\My Pictures\\2009_08_02\\IMG_5431.JPG\n",
      "[10000/13104] Processed: G:\\My Drive\\03 Personal\\04 Pictures\\My Pictures\\2009_08_02\\IMG_5467.JPG\n",
      "[10100/13104] Processed: G:\\My Drive\\03 Personal\\04 Pictures\\My Pictures\\deep_creek\\20060908 198.jpg\n",
      "[10200/13104] Processed: G:\\My Drive\\03 Personal\\04 Pictures\\My Pictures\\pics\\cass_pirate.jpg\n",
      "[10300/13104] Processed: G:\\My Drive\\03 Personal\\04 Pictures\\from wdcloud\\Shared Pictures\\20160402_120141.jpg\n",
      "[10400/13104] Processed: G:\\My Drive\\03 Personal\\04 Pictures\\from wdcloud\\Shared Pictures\\20151126_161923.jpg\n",
      "[10500/13104] Processed: G:\\My Drive\\03 Personal\\04 Pictures\\from wdcloud\\Shared Pictures\\20150803_194533.jpg\n",
      "[10600/13104] Processed: G:\\My Drive\\03 Personal\\04 Pictures\\DCIM\\Camera\\20191011_095906.jpg\n",
      "[10700/13104] Processed: G:\\My Drive\\03 Personal\\04 Pictures\\DCIM\\Camera\\20191013_090949.jpg\n",
      "[10800/13104] Processed: G:\\My Drive\\03 Personal\\04 Pictures\\DCIM\\Camera\\20191207_150546.jpg\n",
      "[10900/13104] Processed: G:\\My Drive\\03 Personal\\04 Pictures\\DCIM\\Camera\\20200119_130039.jpg\n",
      "[11000/13104] Processed: G:\\My Drive\\03 Personal\\04 Pictures\\DCIM\\Camera\\20200228_191408.jpg\n",
      "[11100/13104] Processed: G:\\My Drive\\03 Personal\\04 Pictures\\DCIM\\Camera\\20200420_194739.jpg\n",
      "[11200/13104] Processed: G:\\My Drive\\03 Personal\\04 Pictures\\DCIM\\Camera\\20200607_150233.jpg\n"
     ]
    }
   ],
   "source": [
    "import os\n",
    "import json\n",
    "from PIL import Image\n",
    "from exif import Image as ExifImage\n",
    "\n",
    "def extract_image_metadata(directory_path):\n",
    "    metadata_list = []\n",
    "    skipped_files = []\n",
    "    \n",
    "    # Define common video file extensions to skip\n",
    "    video_extensions = {'.mp4', '.avi', '.mov', '.mkv', '.flv', '.wmv', '.mpeg', '.mpg'}\n",
    "    \n",
    "    # Count the total number of files for progress tracking (including subdirectories)\n",
    "    total_files = sum(len(files) for _, _, files in os.walk(directory_path))\n",
    "    processed_files = 0\n",
    "    \n",
    "    for root, _, files in os.walk(directory_path):\n",
    "        for file in files:\n",
    "            file_path = os.path.join(root, file)\n",
    "            processed_files += 1\n",
    "            # Skip files with video extensions\n",
    "            if os.path.splitext(file)[1].lower() in video_extensions:\n",
    "                reason = \"File is a video.\"\n",
    "                # print(f\"[{processed_files}/{total_files}] Skipping {file_path}: {reason}\")\n",
    "                skipped_files.append({'file_path': file_path, 'reason': reason})\n",
    "                continue\n",
    "            \n",
    "            try:\n",
    "                # Try to open the file as an image\n",
    "                with open(file_path, 'rb') as img_file:\n",
    "                    try:\n",
    "                        exif_img = ExifImage(img_file)\n",
    "                    except Exception as e:\n",
    "                        reason = f\"EXIF read error: {e}\"\n",
    "                        # print(f\"[{processed_files}/{total_files}] Skipping {file_path}: {reason}\")\n",
    "                        skipped_files.append({'file_path': file_path, 'reason': reason})\n",
    "                        continue\n",
    "                \n",
    "                # Basic image metadata using Pillow\n",
    "                pil_image = Image.open(file_path)\n",
    "                metadata = {\n",
    "                    'file_path': file_path,\n",
    "                    'file_name': file,\n",
    "                    'basic_metadata': {\n",
    "                        'format': pil_image.format,\n",
    "                        'mode': pil_image.mode,\n",
    "                        'size': pil_image.size\n",
    "                    },\n",
    "                    'exif_metadata': {}\n",
    "                }\n",
    "                \n",
    "                # EXIF metadata\n",
    "                if exif_img.has_exif:\n",
    "                    for tag in exif_img.list_all():\n",
    "                        try:\n",
    "                            value = exif_img.get(tag)\n",
    "                            # Ensure 'Flash' value is saved as a string\n",
    "                            if tag.lower() == 'flash':\n",
    "                                value = str(value)\n",
    "                            metadata['exif_metadata'][tag] = value\n",
    "                        except Exception as e:\n",
    "                            metadata['exif_metadata'][tag] = f\"Error reading {tag}: {e}\"\n",
    "                \n",
    "                # Add metadata to the list\n",
    "                metadata_list.append(metadata)\n",
    "                if processed_files%100 == 0:\n",
    "                    print(f\"[{processed_files}/{total_files}] Processed: {file_path}\")\n",
    "            \n",
    "            except (IOError, OSError):\n",
    "                # Skip files that cannot be opened as images\n",
    "                reason = \"File is not an image.\"\n",
    "                # print(f\"[{processed_files}/{total_files}] Skipping {file_path}: {reason}\")\n",
    "                skipped_files.append({'file_path': file_path, 'reason': reason})\n",
    "                continue\n",
    "    \n",
    "    return metadata_list, skipped_files\n",
    "\n",
    "def save_data_to_json(data, json_file_path):\n",
    "    try:\n",
    "        with open(json_file_path, 'w') as json_file:\n",
    "            json.dump(data, json_file, indent=4)\n",
    "        print(f\"Data successfully saved to {json_file_path}\")\n",
    "    except Exception as e:\n",
    "        print(f\"Error saving data to JSON: {e}\")\n",
    "\n",
    "# Example usage\n",
    "directory_path = r\"G:\\My Drive\\03 Personal\\04 Pictures\"  # Use raw string or double backslashes for Windows paths\n",
    "json_output_path = 'gdrive_04_pictures_image_metadata.json'\n",
    "skipped_files_output_path = 'gdrive_04_pictures_Backup_skipped_files.json'\n",
    "\n",
    "metadata_list, skipped_files = extract_image_metadata(directory_path)\n",
    "save_data_to_json(metadata_list, json_output_path)\n",
    "save_data_to_json(skipped_files, skipped_files_output_path)\n"
   ]
  },
  {
   "cell_type": "code",
   "execution_count": null,
   "id": "6e7c022f-8e70-4cff-99a9-5bca095135ac",
   "metadata": {},
   "outputs": [],
   "source": []
  }
 ],
 "metadata": {
  "kernelspec": {
   "display_name": "Python 3 (ipykernel)",
   "language": "python",
   "name": "python3"
  },
  "language_info": {
   "codemirror_mode": {
    "name": "ipython",
    "version": 3
   },
   "file_extension": ".py",
   "mimetype": "text/x-python",
   "name": "python",
   "nbconvert_exporter": "python",
   "pygments_lexer": "ipython3",
   "version": "3.12.4"
  }
 },
 "nbformat": 4,
 "nbformat_minor": 5
}
