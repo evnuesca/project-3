{
 "cells": [
  {
   "cell_type": "markdown",
   "id": "771ca7be-7a73-499e-bd9f-e9a7f7910be8",
   "metadata": {},
   "source": [
    "## Week 05: Classes, Objects, and Modules"
   ]
  },
  {
   "cell_type": "markdown",
   "id": "52c09ecd-26cb-40e9-b67c-a1585b1a72f4",
   "metadata": {},
   "source": [
    "#### part f: importing cards as a module\n",
    "This notebook now imports the cards module from cards2.py. This code is the basis for creating a new game class called war in this week's lab (exercises 6 - 10).  Next week we'll pick up here and convert our text-based card game to a GUI - based game.\n"
   ]
  },
  {
   "cell_type": "code",
   "execution_count": null,
   "id": "4199bc09-7634-477c-88e5-07d90fea0b1f",
   "metadata": {
    "scrolled": true
   },
   "outputs": [],
   "source": [
    "from cards2 import cards\n",
    "\n",
    "def play_war():\n",
    "    # let's play war\n",
    "    player1_hand = gamedeck.deal()\n",
    "    player2_hand = gamedeck.deal()\n",
    "    print('player 1:', player1_hand)\n",
    "    print('player 2:', player2_hand)\n",
    "    if player1_hand['value'] > player2_hand['value']:\n",
    "        print('player 1 wins!')\n",
    "    elif player1_hand['value'] < player2_hand['value']:\n",
    "        print('player 2 wins!')\n",
    "    else:\n",
    "        print('tie!')\n",
    "\n",
    "# set card values for war\n",
    "suits = ['clubs', 'diamonds', 'hearts', 'spades']\n",
    "ranks = ['2', '3', '4', '5', '6', '7', '8', '9', '10', 'jack', 'queen', 'king', 'ace']\n",
    "card_values = [2, 3, 4, 5, 6, 7, 8, 9, 10, 11, 12, 13, 14]\n",
    "\n",
    "# make the game deck\n",
    "gamedeck = cards(suits, ranks, card_values)\n",
    "gamedeck.make_deck()\n",
    "gamedeck.shuffle()\n",
    "print(gamedeck.deck)\n",
    "print(len(gamedeck.deck))\n"
   ]
  },
  {
   "cell_type": "code",
   "execution_count": null,
   "id": "aa24f09f-68aa-4e99-ae5b-744d0b99c2f4",
   "metadata": {},
   "outputs": [],
   "source": [
    "# play the game\n",
    "play = 'y'\n",
    "while play == \"y\" and len(gamedeck.deck)>0:\n",
    "    play_war()\n",
    "    # how many cards left in the game deck?\n",
    "    print('the game deck has', len(gamedeck.deck), 'cards left.')\n",
    "    play = input('play again? ')"
   ]
  },
  {
   "cell_type": "code",
   "execution_count": null,
   "id": "12315a0c-1ddc-4a9c-83cc-5f6355f5a734",
   "metadata": {},
   "outputs": [],
   "source": []
  }
 ],
 "metadata": {
  "kernelspec": {
   "display_name": "Python 3 (ipykernel)",
   "language": "python",
   "name": "python3"
  },
  "language_info": {
   "codemirror_mode": {
    "name": "ipython",
    "version": 3
   },
   "file_extension": ".py",
   "mimetype": "text/x-python",
   "name": "python",
   "nbconvert_exporter": "python",
   "pygments_lexer": "ipython3",
   "version": "3.12.4"
  }
 },
 "nbformat": 4,
 "nbformat_minor": 5
}
