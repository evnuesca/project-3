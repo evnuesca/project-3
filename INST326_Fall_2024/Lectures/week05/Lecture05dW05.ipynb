{
 "cells": [
  {
   "cell_type": "markdown",
   "id": "e3a2b2c4-b8c3-48e2-87c1-feae18b26af0",
   "metadata": {},
   "source": [
    "## Week 05: Classes, Objects, and Modules"
   ]
  },
  {
   "cell_type": "markdown",
   "id": "9c36e4be-5a75-40c8-856d-bceff101b5c8",
   "metadata": {},
   "source": [
    "#### part d: importing cards as a module\n",
    "What happens if we import the whole module? Change \"from cards import cards\" to just \"import cards\". What happens when you run it?  \n",
    "You get an error because cards now refers to a module, not a class. To fix this, change your reference to cards.cards()."
   ]
  },
  {
   "cell_type": "code",
   "execution_count": null,
   "id": "74aa39b9-24af-489b-852e-86090ed29134",
   "metadata": {},
   "outputs": [],
   "source": [
    "# toggle the statements below\n",
    "#from cards import cards\n",
    "import cards\n",
    "\n",
    "gamedeck = cards()\n",
    "#gamedeck = cards.cards()\n",
    "\n",
    "gamedeck.make_deck()\n",
    "gamedeck.shuffle()\n",
    "\n",
    "# let's play war\n",
    "player1_hand = gamedeck.deal()\n",
    "player2_hand = gamedeck.deal()\n",
    "print('player 1:', player1_hand)\n",
    "print('player 2:', player2_hand)\n",
    "if player1_hand['value'] > player2_hand['value']:\n",
    "    print('player 1 wins!')\n",
    "elif player1_hand['value'] < player2_hand['value']:\n",
    "    print('player 2 wins!')\n",
    "else:\n",
    "    print('tie!')\n",
    "\n",
    "# how many cards left in the game deck?\n",
    "print('the game deck has', len(gamedeck.deck), 'cards left.')"
   ]
  },
  {
   "cell_type": "code",
   "execution_count": null,
   "id": "40aafc7b-a38c-4737-ab7e-bd267cfe348e",
   "metadata": {},
   "outputs": [],
   "source": [
    "print(dir(gamedeck))"
   ]
  },
  {
   "cell_type": "markdown",
   "id": "504da878-ad52-409f-8379-a30872d1af10",
   "metadata": {},
   "source": [
    "However, this time when we run the print_name() m"
   ]
  },
  {
   "cell_type": "code",
   "execution_count": null,
   "id": "8d95c17d-dead-4cf0-ba1a-2e514e036760",
   "metadata": {},
   "outputs": [],
   "source": [
    "gamedeck.print_name()"
   ]
  },
  {
   "cell_type": "code",
   "execution_count": null,
   "id": "f0f67fcb-2fb1-44f4-9848-dfd6e8802a81",
   "metadata": {},
   "outputs": [],
   "source": []
  }
 ],
 "metadata": {
  "kernelspec": {
   "display_name": "Python 3 (ipykernel)",
   "language": "python",
   "name": "python3"
  },
  "language_info": {
   "codemirror_mode": {
    "name": "ipython",
    "version": 3
   },
   "file_extension": ".py",
   "mimetype": "text/x-python",
   "name": "python",
   "nbconvert_exporter": "python",
   "pygments_lexer": "ipython3",
   "version": "3.12.4"
  }
 },
 "nbformat": 4,
 "nbformat_minor": 5
}
