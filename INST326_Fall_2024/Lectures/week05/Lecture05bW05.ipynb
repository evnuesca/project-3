{
 "cells": [
  {
   "cell_type": "markdown",
   "id": "022e1496-042a-423f-86d4-c1098f57272b",
   "metadata": {},
   "source": [
    "## Week 05: Classes, Objects, and Modules"
   ]
  },
  {
   "cell_type": "markdown",
   "id": "31c03c8e-9867-4b16-87bd-d8a78b68f4ac",
   "metadata": {},
   "source": [
    "#### Part b: Running cards.py on its own"
   ]
  },
  {
   "cell_type": "markdown",
   "id": "caa2529a-be3b-4b72-a170-c46f9384f9d1",
   "metadata": {},
   "source": [
    "The code the cell below is an exact copy of what is in cards.py. When you run it, the bit of code at the bottom runs because it is running in the 'main' python module. But if cards.py is imported as a module into another python program, the code in the cards module is running in the 'cards' module."
   ]
  },
  {
   "cell_type": "code",
   "execution_count": null,
   "id": "c832bab0-2f47-4f35-add1-ec7040ff8eea",
   "metadata": {},
   "outputs": [],
   "source": [
    "# this will overwrite the cards.py file\n",
    "# the code below is a copy of the cell above that creates the cards class\n",
    "# with a little extra code at the bottom\n",
    "\n",
    "import random  # we will use this module to shuffle the cards\n",
    "\n",
    "class cards():\n",
    "\n",
    "    # a deck of cards has four suits with 13 cards (ranks) in each suit.\n",
    "    # the cards may have different values depending on the game. for now, we'll use these.\n",
    "    # in some card games, one suit may 'trump' another suit, meaning it has a higher value. we'll skip for now.\n",
    "    # later we'll move these collections out of the class\n",
    "    \n",
    "    suits = ['clubs', 'diamonds', 'hearts', 'spades']\n",
    "    ranks = ['2', '3', '4', '5', '6', '7', '8', '9', '10', 'jack', 'queen', 'king', 'ace']\n",
    "    card_values = [2, 3, 4, 5, 6, 7, 8, 9, 10, 11, 12, 13, 14]\n",
    "\n",
    "    # when we call a class to construct an object, the __init__ method runs automatically.\n",
    "    # this method initializes some of the object's variables and sets their starting values.\n",
    "    \n",
    "    def __init__(self, suits = suits, ranks = ranks, card_values = card_values):\n",
    "        self.suits = suits\n",
    "        self.ranks = ranks\n",
    "        self.card_values = card_values\n",
    "        self.newcard = {}\n",
    "        self.deck = []\n",
    "      \n",
    "    # we define a method to create a deck of cards. although self.deck is initialized above, we do so again\n",
    "    # in the method to ensure that it creates a new deck of 52 cards every time.\n",
    "    \n",
    "    def make_deck(self):\n",
    "        self.deck = [] \n",
    "        for suit in self.suits: # loop through the suits\n",
    "            for index, rank in enumerate(self.ranks): # loop through the ranks; enumerate gives us the index number\n",
    "                value = self.card_values[index] # We use the index number here to get the card value\n",
    "                newcard = {'suit':suit, 'rank':rank, 'value':value} #create a new card dictionary\n",
    "                self.deck.append(newcard) # append the new card to the deck list\n",
    "\n",
    "    # both the make_deck method and shuffle method act on the self.deck attribute.\n",
    "    # that is, they change the elements and order of the object's deck list inside the object.\n",
    "    # they do not return anything explicitly, yet we end up with a shuffled deck.\n",
    "    \n",
    "    def shuffle(self):\n",
    "        random.shuffle(self.deck)\n",
    "\n",
    "    def deal(self):\n",
    "        card = self.deck.pop()\n",
    "        return card\n",
    "\n",
    "    # when we deal a physical card, we take the top card off the deck and put it in the player's hand.\n",
    "    # the dealt card is no longer available in the deck.\n",
    "    # the list.pop() method accomplishes this. just think of the end of the list as the top of the deck.\n",
    "    # as cards are dealt, the number of remaining cards in the deck decreases.\n",
    "\n",
    "    def print_name(self):\n",
    "        print('name = ', __name__)\n",
    "\n",
    "# the following code lets you test the code above if this code is run independently.\n",
    "# but it doesn't run when this code is run as a module.\n",
    "\n",
    "if __name__ == \"__main__\":\n",
    "    gamedeck = cards()\n",
    "    gamedeck.make_deck()\n",
    "    gamedeck.shuffle()\n",
    "    print(gamedeck.deck)\n",
    "    print(len(gamedeck.deck))\n"
   ]
  },
  {
   "cell_type": "code",
   "execution_count": null,
   "id": "945d8549-f2cf-4e6e-a212-3e897c1e3973",
   "metadata": {
    "scrolled": true
   },
   "outputs": [],
   "source": [
    "print(dir(gamedeck))"
   ]
  },
  {
   "cell_type": "code",
   "execution_count": null,
   "id": "588fc6e2-26d3-4c60-b869-b393d037e66b",
   "metadata": {},
   "outputs": [],
   "source": [
    "gamedeck.print_name()"
   ]
  },
  {
   "cell_type": "code",
   "execution_count": null,
   "id": "b8307698-8730-4e74-9e8f-8f1e6a66c849",
   "metadata": {},
   "outputs": [],
   "source": []
  }
 ],
 "metadata": {
  "kernelspec": {
   "display_name": "Python 3 (ipykernel)",
   "language": "python",
   "name": "python3"
  },
  "language_info": {
   "codemirror_mode": {
    "name": "ipython",
    "version": 3
   },
   "file_extension": ".py",
   "mimetype": "text/x-python",
   "name": "python",
   "nbconvert_exporter": "python",
   "pygments_lexer": "ipython3",
   "version": "3.12.4"
  }
 },
 "nbformat": 4,
 "nbformat_minor": 5
}
