{
 "cells": [
  {
   "cell_type": "markdown",
   "id": "9c114099-88dd-4c32-9bfd-f07259d89a25",
   "metadata": {},
   "source": [
    "## Advanced Python Constructs: Collections, Mutability, Comprehensions, Conditionals, and Loops"
   ]
  },
  {
   "cell_type": "markdown",
   "id": "e7df955c-82a6-4cb9-b849-fa1729721743",
   "metadata": {},
   "source": [
    "#### Introduction (5 mins)\n",
    "\n",
    "Brief overview of the importance of these constructs in real-world applications.  \n",
    "  \n",
    "Learning objectives:  \n",
    "- Understand Python collections and their mutability.  \n",
    "- Implement list comprehensions for concise code.  \n",
    "- Apply conditionals for decision-making.  \n",
    "- Use loops to automate repetitive tasks."
   ]
  },
  {
   "cell_type": "markdown",
   "id": "874bf411-8f10-4756-8fa8-caeb0588f35a",
   "metadata": {},
   "source": [
    "### 1. Collections and Mutability (20 mins)"
   ]
  },
  {
   "cell_type": "markdown",
   "id": "be95dbd4-2e5f-429a-8e95-aa53798b71d4",
   "metadata": {
    "jp-MarkdownHeadingCollapsed": true
   },
   "source": [
    "#### Definition & Purpose\n",
    "\n",
    "**Collections** store multiple elements.  \n",
    "\n",
    "**Mutability** refers to the ability of an object to be changed after it is created."
   ]
  },
  {
   "cell_type": "markdown",
   "id": "b660654e-28b9-4b7d-bf5f-6965b72417bd",
   "metadata": {},
   "source": [
    "#### Key Python Collections\n",
    "\n",
    "**Lists:** Ordered, mutable.  \n",
    "> Example: my_list = [1, 2, 3]  \n",
    "> Mutability: Adding/removing elements: my_list.append(4) \n",
    " \n",
    "**Tuples:** Ordered, immutable.  \n",
    "> Example: my_tuple = (1, 2, 3)  \n",
    "> Immutable nature: Can't add/remove elements. \n",
    "      \n",
    "**Sets:** Unordered, mutable, no duplicates.  \n",
    "> Example: my_set = {1, 2, 3}  \n",
    "> Adding/removing elements: my_set.add(4)\n",
    "\n",
    "**Dictionaries:** Key-value pairs, mutable.  \n",
    "> Example: my_dict = {'a': 1, 'b': 2}  \n",
    "> Modifying values: my_dict['a'] = 3"
   ]
  },
  {
   "cell_type": "markdown",
   "id": "e2ddce13-ed7c-4981-b4c2-cd9645e0817e",
   "metadata": {},
   "source": [
    "### Discussion on Mutability  \n",
    "\n",
    "**Mutability** refers to whether an object in Python can be changed after it is created. Python’s data structures vary in their mutability, which is important to understand when choosing the appropriate collection type for a task.  \n",
    "\n",
    "#### Mutable vs Immutable Types\n",
    "Mutable objects can be altered after their creation. You can change the contents of the object without changing its identity.  \n",
    "Immutable objects cannot be altered once created. Any \"modification\" of an immutable object creates a new object with the updated content.  \n",
    "\n"
   ]
  },
  {
   "cell_type": "markdown",
   "id": "ebe12350-82d1-4f74-87e9-78119da9c6c2",
   "metadata": {},
   "source": [
    "#### Mutable Example: Lists\n",
    "Lists are one of the most common mutable types. You can change, add, or remove items from a list after its creation.  \n",
    "Here, the same list object is modified, without creating a new object."
   ]
  },
  {
   "cell_type": "code",
   "execution_count": null,
   "id": "8bd94daf-7385-4247-8dbb-a57e4d132db1",
   "metadata": {},
   "outputs": [],
   "source": [
    "my_list = [1, 2, 3]\n",
    "print(\"Original list:\", my_list)\n",
    "\n",
    "# Modifying a list (mutating)\n",
    "my_list.append(4)    # Adding an item\n",
    "my_list[1] = 100     # Changing an element\n",
    "\n",
    "print(\"Modified list:\", my_list)\n"
   ]
  },
  {
   "cell_type": "markdown",
   "id": "a7c950aa-c154-4e91-9122-afa52e24e419",
   "metadata": {},
   "source": [
    "#### Immutable Example: Strings\n",
    "Strings in Python are immutable, meaning any change results in a new string object."
   ]
  },
  {
   "cell_type": "code",
   "execution_count": null,
   "id": "984b3329-8a4a-4668-a3ec-1ce919296d13",
   "metadata": {},
   "outputs": [],
   "source": [
    "my_string = \"hello\"\n",
    "print(\"Original string:\", my_string)\n",
    "\n",
    "# Attempting to modify a string creates a new object\n",
    "new_string = my_string.replace('h', 'y')\n",
    "\n",
    "print(\"Modified string:\", new_string)\n",
    "print(\"Original string remains unchanged:\", my_string)\n"
   ]
  },
  {
   "cell_type": "markdown",
   "id": "c7a48bc5-ace0-45f6-9f08-15f660491a5d",
   "metadata": {},
   "source": [
    "The string **my_string** is not modified; instead, **new_string** is a new object with the modification.  \n",
    "Note the placement of the **=** operators"
   ]
  },
  {
   "cell_type": "markdown",
   "id": "47775d0b-8cfe-4012-b050-825dd74f8bcf",
   "metadata": {},
   "source": [
    "#### Mutable Example: Dictionaries\n",
    "Dictionaries are mutable, allowing us to add, modify, or remove key-value pairs.    \n",
    "Like lists, the dictionary is modified in-place."
   ]
  },
  {
   "cell_type": "code",
   "execution_count": null,
   "id": "84956cea-6927-4adf-a803-b5cccb6e016a",
   "metadata": {},
   "outputs": [],
   "source": [
    "my_dict = {'a': 1, 'b': 2}\n",
    "print(\"Original dictionary:\", my_dict)\n",
    "\n",
    "# Modifying the dictionary (mutating)\n",
    "my_dict['a'] = 10        # Change value for key 'a'\n",
    "my_dict['c'] = 3         # Add a new key-value pair\n",
    "\n",
    "print(\"Modified dictionary:\", my_dict)\n"
   ]
  },
  {
   "cell_type": "markdown",
   "id": "89660460-c03e-42b6-9486-7145fa92b627",
   "metadata": {},
   "source": [
    "#### Immutable Example: Tuples\n",
    "Tuples are immutable sequences, meaning their content cannot be changed once created.  \n",
    "\n",
    "This example also introduces the **try - except** procedure in python, which is used to control what happens when there are errors.  \n",
    "\n",
    "In this case, attempting to change an element of a tuple results in a **TypeError**, because tuples are immutable."
   ]
  },
  {
   "cell_type": "code",
   "execution_count": null,
   "id": "80031cca-6d88-46e0-a89e-118b53553405",
   "metadata": {},
   "outputs": [],
   "source": [
    "my_tuple = (1, 2, 3)\n",
    "print(\"Original tuple:\", my_tuple)\n",
    "\n",
    "# Attempt to modify a tuple raises an error\n",
    "try:\n",
    "    my_tuple[0] = 10\n",
    "except TypeError as e:\n",
    "    print(f\"Error: {e}\")\n"
   ]
  },
  {
   "cell_type": "markdown",
   "id": "20ebccb6-94f6-4d8a-9ef9-a224d1bd0f74",
   "metadata": {},
   "source": [
    "### How Mutability Affects Python Behavior\n",
    "Example 1: List Assignment and Mutation"
   ]
  },
  {
   "cell_type": "code",
   "execution_count": null,
   "id": "23be1ea9-899d-4e2b-ac97-bdeafc23e2ef",
   "metadata": {},
   "outputs": [],
   "source": [
    "list_a = [1, 2, 3]\n",
    "list_b = list_a  # Assigning list_a to list_b\n",
    "\n",
    "# Mutate list_a\n",
    "list_a.append(4)\n",
    "\n",
    "print(\"list_a:\", list_a, id(list_a)) # id() prints the memory reference\n",
    "print(\"list_b:\", list_b, id(list_b))\n"
   ]
  },
  {
   "cell_type": "markdown",
   "id": "ca642468-77a9-4c36-967a-44f6819de2a4",
   "metadata": {},
   "source": [
    "Both list_a and list_b refer to the same list object. Mutating list_a affects list_b because they share the same memory reference.  \n",
    "\n",
    "To avoid a shared reference, create a copy of the list, like this:"
   ]
  },
  {
   "cell_type": "code",
   "execution_count": null,
   "id": "3ddf8bb8-b8c5-42f5-947b-4e3099fcd7f4",
   "metadata": {},
   "outputs": [],
   "source": [
    "list_a = [1, 2, 3]\n",
    "list_b = list_a.copy()  # Copy list_a to list_b\n",
    "\n",
    "list_a.append(4)\n",
    "\n",
    "print(\"list_a:\", list_a, id(list_a)) # id() prints the memory reference\n",
    "print(\"list_b:\", list_b, id(list_b))\n"
   ]
  },
  {
   "cell_type": "markdown",
   "id": "1d8eb480-231b-40c4-9730-b4ef3eaceb03",
   "metadata": {},
   "source": [
    "Now, list_a and list_b are independent, and mutating one does not affect the other."
   ]
  },
  {
   "cell_type": "markdown",
   "id": "4a89f28c-c21e-4c24-97ae-047eb8465dff",
   "metadata": {},
   "source": [
    "#### Mutability and Function Arguments\n",
    "When passing mutable objects (like lists or dictionaries) to functions, changes to the object inside the function affect the original object."
   ]
  },
  {
   "cell_type": "code",
   "execution_count": null,
   "id": "31f10613-3686-4725-9ebe-2d914fb2ce66",
   "metadata": {},
   "outputs": [],
   "source": [
    "def modify_list(lst):\n",
    "    lst.append(100)\n",
    "\n",
    "my_list = [1, 2, 3]\n",
    "modify_list(my_list)\n",
    "\n",
    "print(\"List after function call:\", my_list)\n"
   ]
  },
  {
   "cell_type": "markdown",
   "id": "9d619a12-2192-4048-bf98-446b2dfc0a68",
   "metadata": {},
   "source": [
    "The my_list was modified inside the function since lists are mutable.  \n",
    "\n",
    "**Immutable Example:**  \n",
    "Passing an immutable object like a tuple does not allow changes:"
   ]
  },
  {
   "cell_type": "code",
   "execution_count": null,
   "id": "ceee1894-95d9-4409-a7c8-9943941c5b26",
   "metadata": {},
   "outputs": [],
   "source": [
    "def modify_tuple(tup):\n",
    "    tup += (4, 5)\n",
    "\n",
    "my_tuple = (1, 2, 3)\n",
    "modify_tuple(my_tuple)\n",
    "\n",
    "print(\"Tuple after function call:\", my_tuple)\n"
   ]
  },
  {
   "cell_type": "markdown",
   "id": "0a60d856-ed4c-4d71-a3b6-ff54d79f4a26",
   "metadata": {},
   "source": [
    "The tuple remains unchanged, as it is immutable. The function creates a new tuple but doesn’t modify the original."
   ]
  },
  {
   "cell_type": "markdown",
   "id": "4a97b9fd-7884-4952-a3d5-5fd70b0e1122",
   "metadata": {},
   "source": [
    "### Choosing Between Mutable and Immutable Types\n",
    "**Mutable types** (like lists or dictionaries) are useful when you need to frequently update or change the data without creating a new object.  \n",
    "> Example: Use a list for a dynamically growing collection of user inputs.\n",
    "\n",
    "**Immutable types** (like tuples or strings) are beneficial when data integrity is crucial, and you want to avoid accidental changes.  \n",
    "> Example: Use a tuple to represent fixed coordinates in space, where the values should never change.\n",
    "\n",
    "Understanding mutability helps you avoid unintended side effects, especially when passing data between functions or sharing data across different parts of a program."
   ]
  },
  {
   "cell_type": "markdown",
   "id": "dc6e2831-87b4-419d-8451-7c46f533995b",
   "metadata": {},
   "source": [
    "### Comprehensions (15 mins)\n",
    "\n",
    "**Comprehensions** are a concise way to create collections.\n",
    "\n",
    "\n",
    "**List Comprehension**  \n",
    "> Syntax: [expression for item in iterable if condition]  \n",
    "Example: [x**2 for x in range(10) if x % 2 == 0]\n",
    "\n",
    "**Set & Dictionary Comprehensions**  \n",
    "> **Sets:** {x\\**2 for x in range(10)}  \n",
    "**Dicts:** {x: x\\**2 for x in range(5)}\n",
    "\n",
    "**Advantages**\n",
    "\n",
    "> More readable and expressive.  \n",
    "Performance improvement over traditional loops.\n"
   ]
  },
  {
   "cell_type": "code",
   "execution_count": null,
   "id": "b6c531ef-0a06-41d7-889c-3b18afec9e25",
   "metadata": {},
   "outputs": [],
   "source": [
    "words = [\"hello\", \"world\"]\n",
    "uppercase_words = [word.upper() for word in words]\n",
    "print(words)\n",
    "print(uppercase_words)"
   ]
  },
  {
   "cell_type": "markdown",
   "id": "359407cf-0633-4694-95a9-50be1d25cbd2",
   "metadata": {},
   "source": [
    "### Conditionals (10 mins)\n",
    "\n",
    "**Conditional statements** allow for decision-making in code.\n",
    "Key Statements:  \n",
    "> **if, elif, else:**"
   ]
  },
  {
   "cell_type": "code",
   "execution_count": null,
   "id": "3cae154d-8143-4aa4-8aa3-bc43e549fa0f",
   "metadata": {},
   "outputs": [],
   "source": [
    "x = 10\n",
    "if x > 10:\n",
    "    print(\"Greater than 10\")\n",
    "elif x == 10:\n",
    "    print(\"Equal to 10\")\n",
    "else:\n",
    "    print(\"Less than 10\")\n"
   ]
  },
  {
   "cell_type": "markdown",
   "id": "e391ac32-2e69-4b23-9cbb-6b3ff4c414e3",
   "metadata": {},
   "source": [
    "### Loops (for and while) (15 mins)\n",
    "\n",
    "**for** loops iterate over a sequence (list, tuple, string, etc.)."
   ]
  },
  {
   "cell_type": "code",
   "execution_count": null,
   "id": "e1a12bd0-9629-461d-974a-e3ab315417a7",
   "metadata": {},
   "outputs": [],
   "source": [
    "for i in range(5):\n",
    "    print(i)\n"
   ]
  },
  {
   "cell_type": "markdown",
   "id": "ccd65079-eed0-4371-9e1b-0a24ec8da213",
   "metadata": {},
   "source": [
    "**while** loops run as long as a condition is true."
   ]
  },
  {
   "cell_type": "code",
   "execution_count": null,
   "id": "5dd60196-dd8a-43ee-9c8f-598cbceaa84a",
   "metadata": {},
   "outputs": [],
   "source": [
    "count = 0\n",
    "while count < 5:\n",
    "    print(count)\n",
    "    count += 1\n"
   ]
  },
  {
   "cell_type": "markdown",
   "id": "1e503680-d940-4ce9-b627-7ab631bde9f8",
   "metadata": {},
   "source": [
    "#### Loop Control\n",
    "\n",
    "Usually used with an **if** statement  \n",
    "**break:** Exit a loop.  \n",
    "**continue:** Skip to the next iteration.  \n",
    "**else with loops:** Executes when the loop finishes normally.  "
   ]
  },
  {
   "cell_type": "markdown",
   "id": "0377288e-43cf-4f6f-aa68-b3f85c8e363a",
   "metadata": {},
   "source": [
    "### Combining Conditionals and Loops (10 mins)\n",
    "Practical Example:\n",
    "\n",
    "Write a Python program to find all even numbers from 0 to 100 using both a for loop and conditional logic."
   ]
  },
  {
   "cell_type": "code",
   "execution_count": null,
   "id": "39cf26d3-f788-4fca-9db5-8cb400ce937b",
   "metadata": {
    "scrolled": true
   },
   "outputs": [],
   "source": [
    "for i in range(101):\n",
    "    if i % 2 == 0:\n",
    "        print(i)\n"
   ]
  },
  {
   "cell_type": "markdown",
   "id": "402f977a-1724-431a-8d9e-60be58d99985",
   "metadata": {},
   "source": [
    "**Nested Loops and Conditionals:**\n",
    "\n",
    "Example of nested loops and their performance implications:"
   ]
  },
  {
   "cell_type": "code",
   "execution_count": null,
   "id": "ca2d17a6-670e-4600-b7ea-21b03e740110",
   "metadata": {},
   "outputs": [],
   "source": [
    "for i in range(3):\n",
    "    for j in range(3):\n",
    "        print(i, j)\n"
   ]
  },
  {
   "cell_type": "markdown",
   "id": "9e3472e3-4949-4574-94f0-8acdf62213fc",
   "metadata": {},
   "source": [
    "### Live Coding & Q&A (10 mins)  \n",
    "\n",
    "Write a program to count the number of vowels in a given string using a for loop, conditional statements, and list comprehension."
   ]
  },
  {
   "cell_type": "code",
   "execution_count": null,
   "id": "8506dd46-ff43-4a8a-a967-807651ff0326",
   "metadata": {
    "jupyter": {
     "source_hidden": true
    }
   },
   "outputs": [],
   "source": [
    "string = \"hello world\"\n",
    "vowels = [char for char in string if char in \"aeiou\"]\n",
    "print(len(vowels))"
   ]
  },
  {
   "cell_type": "markdown",
   "id": "12412b85-8fcd-4b5c-b67e-0db87c883d52",
   "metadata": {},
   "source": [
    "Create a program that takes a list of numbers and returns a dictionary with the count of each unique number (using loops and conditionals)."
   ]
  },
  {
   "cell_type": "code",
   "execution_count": null,
   "id": "a4f24ac5-6013-40f2-97dc-524ed4f11ee6",
   "metadata": {
    "jupyter": {
     "source_hidden": true
    }
   },
   "outputs": [],
   "source": [
    "def count_unique_numbers(numbers):\n",
    "    # Create an empty dictionary to store counts\n",
    "    count_dict = {}\n",
    "    \n",
    "    # Loop through each number in the list\n",
    "    for num in numbers:\n",
    "        # If the number is already a key in the dictionary, increment its count\n",
    "        if num in count_dict:\n",
    "            count_dict[num] += 1\n",
    "        # Otherwise, add the number to the dictionary with an initial count of 1\n",
    "        else:\n",
    "            count_dict[num] = 1\n",
    "    \n",
    "    return count_dict\n",
    "\n",
    "# Example usage:\n",
    "numbers_list = [1, 2, 2, 3, 4, 4, 4, 5, 1]\n",
    "result = count_unique_numbers(numbers_list)\n",
    "print(result)"
   ]
  },
  {
   "cell_type": "markdown",
   "id": "81aa9a54-1145-4da4-a6ea-476ae54d3c5b",
   "metadata": {},
   "source": [
    "Explore set comprehensions to eliminate duplicates from a list."
   ]
  },
  {
   "cell_type": "code",
   "execution_count": null,
   "id": "30356dfb-1d10-42de-9c73-fe3d9d3093fe",
   "metadata": {
    "jupyter": {
     "source_hidden": true
    }
   },
   "outputs": [],
   "source": [
    "def remove_duplicates(numbers):\n",
    "    # Use set comprehension to eliminate duplicates\n",
    "    unique_numbers = {num for num in numbers}\n",
    "    return list(unique_numbers)  # Convert the set back to a list\n",
    "\n",
    "# Example usage:\n",
    "numbers_list = [1, 2, 2, 3, 4, 4, 4, 5, 1]\n",
    "result = remove_duplicates(numbers_list)\n",
    "print(result)\n"
   ]
  },
  {
   "cell_type": "code",
   "execution_count": null,
   "id": "103e89e9-d15b-4b07-8d75-140b03852fa1",
   "metadata": {},
   "outputs": [],
   "source": []
  },
  {
   "cell_type": "raw",
   "id": "de730a50-27ab-408c-8b74-20e452cd6101",
   "metadata": {},
   "source": [
    "Prepared with the assistance of generative AI  \n",
    "ChatGPT. (2024, September 8). 75-minute college-level lecture on collections, mutability, comprehensions, conditionals (if-else), and loops (for and while) in Python. OpenAI. Retrieved from https://chat.openai.com/."
   ]
  }
 ],
 "metadata": {
  "kernelspec": {
   "display_name": "Python 3 (ipykernel)",
   "language": "python",
   "name": "python3"
  },
  "language_info": {
   "codemirror_mode": {
    "name": "ipython",
    "version": 3
   },
   "file_extension": ".py",
   "mimetype": "text/x-python",
   "name": "python",
   "nbconvert_exporter": "python",
   "pygments_lexer": "ipython3",
   "version": "3.12.4"
  }
 },
 "nbformat": 4,
 "nbformat_minor": 5
}
