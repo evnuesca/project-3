{
 "cells": [
  {
   "cell_type": "markdown",
   "id": "c6a19857-f212-4e6e-aba5-593469c67e4a",
   "metadata": {},
   "source": [
    "In the cell below complete your signature block. This signature block is to be included in every lab and project submission. Failure to include a correctly formatted signature block will result in loss of points on the assignment.  \n",
    "> 1. Insert your name and add your four digit section number. These will not change for the rest of the semester.\n",
    "> 2. Copy and paste this signature block into each lab or project submission you turn in.\n",
    "> 3. Once you have added the signature block to your assignment, enter the group information (if applicable), the assignment number (for example Lab 01W02), and the project due date.  \n",
    "> 4. Finally, if you received any substantive help or used any generative AI resource (like chat GPT), describe that assistance in the disclosures section. See the course policy on generative AI for further guidance on what should be disclosed or cited.  \n",
    "**Your signature block represents your \"signature\" or acknowledgement of the pledge and certification that it is true.**\n"
   ]
  },
  {
   "cell_type": "markdown",
   "id": "5e0ab879-d09f-463d-a0dd-cbf7682b3d2f",
   "metadata": {},
   "source": [
    "### Your Name\n",
    "> INST326 Section ####  \n",
    "> Group number / name if applicable  \n",
    "> Assignment  \n",
    "> Date Due  \n",
    "#### Honor Pledge\n",
    "> I pledge that the work contained in this assignment is my own, and that I have complied with University and course policies on academic integrity, and AI use.\n",
    "#### Disclosures and Citations\n",
    "> Example: *ChatGPT, response to the prompt \"explain how to write a function in python. give an example. Include a citation to chat gpt for the response. include the prompt in the citation.\" OpenAI, August 29, 2024.*"
   ]
  },
  {
   "cell_type": "code",
   "execution_count": null,
   "id": "4f3bc6ec-d3a0-44e1-a572-d0dd4b126580",
   "metadata": {},
   "outputs": [],
   "source": []
  }
 ],
 "metadata": {
  "kernelspec": {
   "display_name": "Python 3 (ipykernel)",
   "language": "python",
   "name": "python3"
  },
  "language_info": {
   "codemirror_mode": {
    "name": "ipython",
    "version": 3
   },
   "file_extension": ".py",
   "mimetype": "text/x-python",
   "name": "python",
   "nbconvert_exporter": "python",
   "pygments_lexer": "ipython3",
   "version": "3.12.4"
  }
 },
 "nbformat": 4,
 "nbformat_minor": 5
}
