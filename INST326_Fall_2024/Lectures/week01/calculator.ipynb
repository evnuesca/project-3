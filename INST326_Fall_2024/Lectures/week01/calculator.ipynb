{
 "cells": [
  {
   "cell_type": "markdown",
   "id": "a6e4da9b-a5d6-48ed-b71b-b77e16c8e9b7",
   "metadata": {},
   "source": [
    "## Introduction to Object Oriented Programming - A Calculator Program"
   ]
  },
  {
   "cell_type": "markdown",
   "id": "d76064e3-971b-4d4d-ab1e-c9e70173d956",
   "metadata": {},
   "source": [
    "Here is a Python program for a calculator with a GUI interface using an object-oriented programming approach. The code is well-documented to explain the concepts and structure."
   ]
  },
  {
   "cell_type": "code",
   "execution_count": 1,
   "id": "127a9cfd-f1e4-49ac-bd61-4d729441422f",
   "metadata": {},
   "outputs": [],
   "source": [
    "import tkinter as tk\n",
    "\n",
    "# Calculator class definition\n",
    "class Calculator:\n",
    "    def __init__(self, master):\n",
    "        self.master = master\n",
    "        master.title(\"Calculator\")\n",
    "\n",
    "        # Display field for the calculator\n",
    "        self.display = tk.Entry(master, width=16, font=(\"Arial\", 24), bd=10, insertwidth=2, justify='right')\n",
    "        self.display.grid(row=0, column=0, columnspan=4)\n",
    "\n",
    "        # Internal string to store the expression\n",
    "        self.expression = \"\"\n",
    "\n",
    "        # Creating the buttons for the calculator\n",
    "        buttons = [\n",
    "            '7', '8', '9', '/',\n",
    "            '4', '5', '6', '*',\n",
    "            '1', '2', '3', '-',\n",
    "            '0', '.', '=', '+'\n",
    "        ]\n",
    "\n",
    "        # Loop to create buttons and assign them to the grid\n",
    "        for i, button in enumerate(buttons):\n",
    "            self.create_button(button).grid(row=1 + i // 4, column=i % 4)\n",
    "\n",
    "        # Clear button\n",
    "        self.create_button('C').grid(row=5, column=0, columnspan=4, sticky=\"nsew\")\n",
    "\n",
    "    def create_button(self, value):\n",
    "        \"\"\"\n",
    "        Creates a calculator button.\n",
    "        :param value: The value to display on the button.\n",
    "        :return: A button widget.\n",
    "        \"\"\"\n",
    "        return tk.Button(self.master, text=value, padx=20, pady=20, font=(\"Arial\", 18),\n",
    "                         command=lambda: self.click(value))\n",
    "\n",
    "    def click(self, value):\n",
    "        \"\"\"\n",
    "        Handles button click events.\n",
    "        :param value: The value of the clicked button.\n",
    "        \"\"\"\n",
    "        if value == \"=\":\n",
    "            # Calculate the expression\n",
    "            try:\n",
    "                self.expression = str(eval(self.expression))\n",
    "            except Exception as e:\n",
    "                self.expression = \"Error\"\n",
    "        elif value == \"C\":\n",
    "            # Clear the expression\n",
    "            self.expression = \"\"\n",
    "        else:\n",
    "            # Update the expression with the clicked button value\n",
    "            self.expression += str(value)\n",
    "        self.update_display()\n",
    "\n",
    "    def update_display(self):\n",
    "        \"\"\"\n",
    "        Updates the calculator display with the current expression.\n",
    "        \"\"\"\n",
    "        self.display.delete(0, tk.END)\n",
    "        self.display.insert(0, self.expression)\n",
    "\n",
    "\n"
   ]
  },
  {
   "cell_type": "code",
   "execution_count": 3,
   "id": "3bef334d-5e6f-40bb-8d9a-67adf80d17a7",
   "metadata": {},
   "outputs": [],
   "source": [
    "# Main program execution\n",
    "if __name__ == \"__main__\":\n",
    "    root = tk.Tk()\n",
    "    calculator = Calculator(root)\n",
    "    root.mainloop()"
   ]
  },
  {
   "cell_type": "markdown",
   "id": "63954e9a-74b5-4db6-b172-94ca2166606c",
   "metadata": {},
   "source": [
    "**Explanation of the Object-Oriented Approach:**  \n",
    "1. **Class Definition:** The Calculator class encapsulates all the functionality of the calculator, making the code modular and reusable.  \n",
    "2. **Constructor (__init__ method):** Initializes the calculator's UI components and stores the expression string.  \n",
    "3. **Methods:**  \n",
    "     a. **create_button:** Creates and returns a button for the calculator.  \n",
    "     b. **click:** Handles the events when a button is clicked, including updating the expression or calculating the result.  \n",
    "     c. **update_display:** Updates the display with the current state of the expression.  \n",
    "     d. **Encapsulation:** The methods and attributes related to the calculator are encapsulated within the Calculator class, which follows the principles of object-oriented design."
   ]
  },
  {
   "cell_type": "markdown",
   "id": "517eef83-cc2a-4d26-af64-d6b085209b20",
   "metadata": {},
   "source": [
    "*This code was generated in response to the following prompt: \"Write a Python program for a calculator program with a GUI interface. Emphasize and document an object-oriented programming approach to this task. Include a citation to ChatGPT in the response, and include this prompt in the citation.\" by ChatGPT, August 2024.*  \n",
    "NOTE: This would be an unacceptable student use of AI according to the course AI policy."
   ]
  },
  {
   "cell_type": "markdown",
   "id": "85a6dc00-ce4d-4333-84ea-16d7a4bc6e61",
   "metadata": {},
   "source": [
    "__[link to chatgpt](https://chatgpt.com/share/e7a12b2f-6ea9-4733-aeb2-a4f70a9d2649)__"
   ]
  }
 ],
 "metadata": {
  "kernelspec": {
   "display_name": "Python 3 (ipykernel)",
   "language": "python",
   "name": "python3"
  },
  "language_info": {
   "codemirror_mode": {
    "name": "ipython",
    "version": 3
   },
   "file_extension": ".py",
   "mimetype": "text/x-python",
   "name": "python",
   "nbconvert_exporter": "python",
   "pygments_lexer": "ipython3",
   "version": "3.12.4"
  }
 },
 "nbformat": 4,
 "nbformat_minor": 5
}
