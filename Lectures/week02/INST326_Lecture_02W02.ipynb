{
 "cells": [
  {
   "cell_type": "markdown",
   "id": "b734559e-c743-40a0-91a3-c80566686c61",
   "metadata": {},
   "source": [
    "## Lecture 02W02 Python Basics Review Part 1\n",
    "Duration: 75 Minutes\n",
    "\n",
    "#### Topics:\n",
    "> Introduction  \n",
    "> Variables and Data Types  \n",
    "> Operators  \n",
    "> Statements  \n",
    "> Print() and Input()  \n",
    "> Functions  \n",
    "> Q&A and Practice  \n"
   ]
  },
  {
   "cell_type": "markdown",
   "id": "630dc400-0c50-41bb-b85c-33303ec22a46",
   "metadata": {},
   "source": [
    "### 1. Introduction (5 minutes)\n",
    "Brief overview of the lecture.  \n",
    "Importance of understanding the basics in Python.  \n",
    "  \n",
    "Open a new console for this notebook. You might want to move it to a new window so you can use it alongside the notebook."
   ]
  },
  {
   "cell_type": "markdown",
   "id": "88dfd572-ae50-4d02-ba0d-778b7711f5e1",
   "metadata": {},
   "source": [
    "### 2. Variables and Data Types (10 minutes)\n",
    "#### Variables:\n",
    "\n",
    "> **Explanation:** Variables store data that can be used and manipulated throughout a program.  \n",
    "> **Naming conventions:** Start with a letter or underscore, no spaces, avoid reserved keywords.\n",
    ">   \n",
    "> Python uses dynamic typing so it is not necessary to *declare* your variables. It is, however, good practice to *initialize* them.\n",
    "#### Data Types:\n",
    "\n",
    "> int (integer)  \n",
    "> float (floating point)  \n",
    "> str (string)  \n",
    "> bool (boolean)  \n",
    "> list, tuple, set, dict (collections) *We will cover these next week*"
   ]
  },
  {
   "cell_type": "code",
   "execution_count": 4,
   "id": "d8360b81-9f81-4aa8-8e08-43a835c26147",
   "metadata": {},
   "outputs": [],
   "source": [
    "# Note that comments in python are preceeded by a hash symbol\n",
    "\"\"\"Multi-line comments are\n",
    "enclosed in triple quotes \n",
    "(may be either single or double quotes)\"\"\"\n",
    "\n",
    "# Variables\n",
    "x = 10          # int\n",
    "y = 3.14        # float\n",
    "name = \"Alice\"  # string\n",
    "is_student = True  # boolean\n",
    "\n",
    "# run this cell then check the values in the terminal\n",
    "\n",
    "# Collections -- We will cover these next week\n",
    "numbers = [1, 2, 3, 4, 5]  # list\n",
    "coordinates = (10.0, 20.0)  # tuple\n",
    "unique_numbers = {1, 2, 3, 3, 2}  # set\n",
    "student_info = {'name': 'Alice', 'age': 20}  # dictionary"
   ]
  },
  {
   "cell_type": "markdown",
   "id": "8c81adc6-802d-4e06-b31f-7a3bc3a989fa",
   "metadata": {},
   "source": [
    "### 3. Operators (10 minutes)\n",
    "Operators are used to perform operations on variables and values. There are several types of operators.\n",
    "#### Arithmetic Operators:\n",
    "> +, -, *, /, //, %, ** *add, subtract, multiply, divide, floor division (round down), modulus (remainder), exponent*  \n",
    "> W3 Schools link:  [https://www.w3schools.com/python/gloss_python_arithmetic_operators.asp](https://www.w3schools.com/python/gloss_python_arithmetic_operators.asp) \n",
    "#### Comparison Operators:\n",
    "> ==, !=, >, <, >=, <= *is equal to, in not equal to, greater than, less than, greater than or equal to, less than or equal to*  \n",
    "> W3 Schools link:  [https://www.w3schools.com/python/gloss_python_comparison_operators.asp](https://www.w3schools.com/python/gloss_python_comparison_operators.asp)\n",
    "#### Logical Operators:\n",
    "> and, or, not *both, either, is not*  \n",
    "> W3 Schools link:  [https://www.w3schools.com/python/gloss_python_logical_operators.asp](https://www.w3schools.com/python/gloss_python_logical_operators.asp)\n",
    "#### Assignment Operators:\n",
    "> =, +=, -=, *=, /=, %= *equal to, increment, decrement, multiply by, divide by, modulus by*  \n",
    "> W3 Schools link:  [https://www.w3schools.com/python/gloss_python_assignment_operators.asp](https://www.w3schools.com/python/gloss_python_assignment_operators.asp)"
   ]
  },
  {
   "cell_type": "code",
   "execution_count": 48,
   "id": "5ee37dd4-12c6-42ba-8983-a530d9422e21",
   "metadata": {},
   "outputs": [
    {
     "name": "stdout",
     "output_type": "stream",
     "text": [
      "True\n",
      "True\n",
      "True\n",
      "False\n",
      "True\n",
      "False\n",
      "False\n",
      "True\n",
      "False\n"
     ]
    }
   ],
   "source": [
    "# Arithmetic\n",
    "a = 5 + 3     # 8\n",
    "b = 10 - 2    # 8\n",
    "c = 4 * 2     # 8\n",
    "d = 16 / 2    # 8.0\n",
    "e = 16 // 2   # 8\n",
    "f = 17 % 3    # 2\n",
    "g = 2 ** 3    # 8\n",
    "\n",
    "# Comparison\n",
    "print(5 == 5)  # True\n",
    "print(5 != 3)  # True\n",
    "print(5 > 3)   # True\n",
    "print(5 < 3)   # False\n",
    "print(5 >= 5)  # True\n",
    "print(5 <= 3)  # False\n",
    "\n",
    "# Logical\n",
    "print(True and False)  # False\n",
    "print(True or False)   # True\n",
    "print(not True)        # False\n",
    "\n",
    "# Assignment\n",
    "x = 5\n",
    "x += 3  # x = 8\n",
    "x -= 2  # x = 6"
   ]
  },
  {
   "cell_type": "markdown",
   "id": "590f5c82-9e7d-412f-9ed3-48b37667ef03",
   "metadata": {},
   "source": [
    "### 4. Statements (10 minutes)\n",
    "#### Simple Statements:\n",
    "> **Assignment:** An Assignment statement is a statement that is used to set a value to the variable name in a program. Assignment statement allows a variable to hold different types of values during its program lifespan.  \n",
    ">  **Expression:**  An expression is a combination of values, variables, operators, and calls to functions. Expressions need to be evaluated. If you ask Python to print an expression, the interpreter evaluates the expression and displays the result.  \n",
    "#### Compound Statements:\n",
    "> *We will cover these next week.*  \n",
    "> if, else, elif  \n",
    "> Loops: for, while"
   ]
  },
  {
   "cell_type": "code",
   "execution_count": 52,
   "id": "c61b78da-a172-4f90-a544-eb653121bab5",
   "metadata": {},
   "outputs": [
    {
     "name": "stdout",
     "output_type": "stream",
     "text": [
      "Hello, World!\n"
     ]
    }
   ],
   "source": [
    "# Simple assignment\n",
    "x = 10\n",
    "\n",
    "# Multiple assignments\n",
    "a, b, c = 1, 2, 3\n",
    "\n",
    "# Assigning a string\n",
    "name = \"Alice\"\n",
    "\n",
    "# Assigning a boolean\n",
    "is_student = True\n",
    "\n",
    "# Assignment using an expression\n",
    "y = x + 5\n",
    "\n",
    "# Arithmetic expression\n",
    "3 + 5\n",
    "\n",
    "# Function call\n",
    "print(\"Hello, World!\")\n",
    "\n",
    "# Variable expression (evaluates the value of the variable)\n",
    "x = 10\n",
    "x\n",
    "\n",
    "# Method call\n",
    "numbers = [1, 2, 3]\n",
    "numbers.append(4)\n"
   ]
  },
  {
   "cell_type": "markdown",
   "id": "aefda0da-4a99-48d0-b84a-ff187aa569e6",
   "metadata": {},
   "source": [
    "### 5. Print() and Input() (10 minutes)\n",
    "#### print():\n",
    "> Used to display output to the console.  \n",
    "> Can accept multiple arguments, control end character."
   ]
  },
  {
   "cell_type": "code",
   "execution_count": 23,
   "id": "8bf5f6a9-b380-44d3-bef4-5e0c5e056dd1",
   "metadata": {},
   "outputs": [
    {
     "name": "stdout",
     "output_type": "stream",
     "text": [
      "Hello, World!\n",
      "Age: 18\n",
      "1-2-3.\n"
     ]
    }
   ],
   "source": [
    "print(\"Hello, World!\")\n",
    "print(\"Age:\", age)\n",
    "print(\"1\", \"2\", \"3\", sep=\"-\", end=\".\\n\")  # 1-2-3.\n"
   ]
  },
  {
   "cell_type": "markdown",
   "id": "9d07c1f8-b31e-4297-b73f-481052c00bed",
   "metadata": {},
   "source": [
    "#### input():\n",
    "> Used to take input from the user.  \n",
    "> Always returns a string, type conversion is necessary."
   ]
  },
  {
   "cell_type": "code",
   "execution_count": 25,
   "id": "4f9ddbd5-8527-441d-a74b-c9c21adaa218",
   "metadata": {},
   "outputs": [
    {
     "name": "stdin",
     "output_type": "stream",
     "text": [
      "Enter your name:  scott\n",
      "Enter your age:  65\n"
     ]
    },
    {
     "name": "stdout",
     "output_type": "stream",
     "text": [
      "Hello, scott. You are 65 years old.\n"
     ]
    }
   ],
   "source": [
    "name = input(\"Enter your name: \")\n",
    "age = int(input(\"Enter your age: \"))\n",
    "print(f\"Hello, {name}. You are {age} years old.\")\n"
   ]
  },
  {
   "cell_type": "markdown",
   "id": "3491233f-8f33-40b0-945a-ef34f2d909ac",
   "metadata": {},
   "source": [
    "### 6. Functions (20 minutes)\n",
    "#### Defining Functions:\n",
    "> Use def keyword.  \n",
    "> Can have parameters and return values.\n",
    "#### Calling functions:\n",
    "> As part of an assignment statement.  \n",
    "> Passing parameters."
   ]
  },
  {
   "cell_type": "code",
   "execution_count": 27,
   "id": "f75ad7f8-822b-43bc-ae6d-5b6045c7a48e",
   "metadata": {},
   "outputs": [
    {
     "name": "stdout",
     "output_type": "stream",
     "text": [
      "Hello, World!\n",
      "Hello, Alice!\n",
      "8\n",
      "Hello, Stranger!\n",
      "Hello, Alice!\n"
     ]
    }
   ],
   "source": [
    "# Simple function\n",
    "def greet():  # define the function\n",
    "    print(\"Hello, World!\")\n",
    "\n",
    "greet()  # call the function\n",
    "\n",
    "# Function with parameters\n",
    "def greet_person(name):\n",
    "    print(f\"Hello, {name}!\")\n",
    "\n",
    "greet_person(\"Alice\") # pass the parameter or value that will be assigned to name in the function\n",
    "\n",
    "# Function with return value\n",
    "def add(a, b):\n",
    "    return a + b\n",
    "\n",
    "result = add(5, 3)\n",
    "print(result)  # 8\n",
    "\n",
    "# Function with default parameters\n",
    "def greet_person(name=\"Stranger\"):\n",
    "    print(f\"Hello, {name}!\")\n",
    "\n",
    "greet_person()          # Hello, Stranger!\n",
    "greet_person(\"Alice\")   # Hello, Alice!\n"
   ]
  },
  {
   "cell_type": "markdown",
   "id": "1e306078-9a8f-40ff-8ba7-aef5a16466e9",
   "metadata": {},
   "source": [
    "### 7. Q&A and Practice (10 minutes)\n",
    "Open the floor for any questions.\n",
    "Provide a small exercise or two for students to practice what they've learned.\n",
    "#### Practice Exercise:\n",
    "> Write a function is_even that takes an integer and returns True if it's even, False otherwise.  \n",
    "> Write a script that asks the user for two numbers and prints their sum, difference, product, and quotient."
   ]
  },
  {
   "cell_type": "code",
   "execution_count": 29,
   "id": "2dc9c05e-7757-4ac8-8fcb-30cbc87df35b",
   "metadata": {},
   "outputs": [
    {
     "name": "stdout",
     "output_type": "stream",
     "text": [
      "True\n",
      "False\n"
     ]
    },
    {
     "name": "stdin",
     "output_type": "stream",
     "text": [
      "Enter first number:  5\n",
      "Enter second number:  6\n"
     ]
    },
    {
     "name": "stdout",
     "output_type": "stream",
     "text": [
      "Sum: 11.0\n",
      "Difference: -1.0\n",
      "Product: 30.0\n",
      "Quotient: 0.8333333333333334\n"
     ]
    }
   ],
   "source": [
    "# Exercise 1\n",
    "def is_even(n):\n",
    "    return n % 2 == 0\n",
    "\n",
    "print(is_even(4))  # True\n",
    "print(is_even(5))  # False\n",
    "\n",
    "# Exercise 2\n",
    "num1 = float(input(\"Enter first number: \"))\n",
    "num2 = float(input(\"Enter second number: \"))\n",
    "\n",
    "print(f\"Sum: {num1 + num2}\")\n",
    "print(f\"Difference: {num1 - num2}\")\n",
    "print(f\"Product: {num1 * num2}\")\n",
    "print(f\"Quotient: {num1 / num2}\")\n"
   ]
  },
  {
   "cell_type": "markdown",
   "id": "ce2f50ed-d417-4631-8056-bd6132744f6e",
   "metadata": {},
   "source": [
    "### Conclusion\n",
    "Recap the key points covered.  \n",
    "Emphasize the importance of practicing these basics to build a strong foundation in Python."
   ]
  }
 ],
 "metadata": {
  "kernelspec": {
   "display_name": "Python 3 (ipykernel)",
   "language": "python",
   "name": "python3"
  },
  "language_info": {
   "codemirror_mode": {
    "name": "ipython",
    "version": 3
   },
   "file_extension": ".py",
   "mimetype": "text/x-python",
   "name": "python",
   "nbconvert_exporter": "python",
   "pygments_lexer": "ipython3",
   "version": "3.12.4"
  }
 },
 "nbformat": 4,
 "nbformat_minor": 5
}
