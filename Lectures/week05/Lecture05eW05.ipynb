{
 "cells": [
  {
   "cell_type": "markdown",
   "id": "df233bb4-02eb-4b3e-893d-9feb142781e3",
   "metadata": {},
   "source": [
    "## Week 05: Classes, Objects, and Modules"
   ]
  },
  {
   "cell_type": "markdown",
   "id": "22c0dd1d-e5c6-49c7-a6a2-1fd772f1d151",
   "metadata": {},
   "source": [
    "#### part e: modifying the cards class / module\n",
    "In this notebook we move the card definition lists outside of the card class. These are rightly things that are defined by the game we want to play, not the cards themselves (especially card_values). We then pass the values back in at execution time.\n"
   ]
  },
  {
   "cell_type": "code",
   "execution_count": 10,
   "id": "cfd799c8-92ca-4342-bffe-5f56b4914355",
   "metadata": {},
   "outputs": [
    {
     "name": "stdout",
     "output_type": "stream",
     "text": [
      "Overwriting cards2.py\n"
     ]
    }
   ],
   "source": [
    "%%writefile cards2.py\n",
    "import random  # we will use this module to shuffle the cards\n",
    "\n",
    "class cards():\n",
    "\n",
    "    # a deck of cards has four suits with 13 cards (ranks) in each suit.\n",
    "    # the cards may have different values depending on the game. for now, we'll use these.\n",
    "    # in some card games, one suit may 'trump' another suit, meaning it has a higher value. we'll skip for now.\n",
    "    \n",
    "    \n",
    "    # when we call a class to construct an object, the __init__ method runs automatically.\n",
    "    # this method initializes some of the object's variables and sets their starting values.\n",
    "    \n",
    "    def __init__(self, suits, ranks, card_values):\n",
    "        self.suits = suits\n",
    "        self.ranks = ranks\n",
    "        self.card_values = card_values\n",
    "        self.newcard = {}\n",
    "        self.deck = []\n",
    "      \n",
    "    # we define a method to create a deck of cards. although self.deck is initialized above, we do so again\n",
    "    # in the method to ensure that it creates a new deck of 52 cards every time.\n",
    "    \n",
    "    def make_deck(self):\n",
    "        self.deck = [] \n",
    "        for suit in self.suits: # loop through the suits\n",
    "            for index, rank in enumerate(self.ranks): # loop through the ranks; enumerate gives us the index number\n",
    "                value = self.card_values[index] # We use the index number here to get the card value\n",
    "                newcard = {'suit':suit, 'rank':rank, 'value':value} #create a new card dictionary\n",
    "                self.deck.append(newcard) # append the new card to the deck list\n",
    "\n",
    "    # both the make_deck method and shuffle method act on the self.deck attribute.\n",
    "    # that is, they change the elements and order of the object's deck list inside the object.\n",
    "    # they do not return anything explicitly, yet we end up with a shuffled deck.\n",
    "    \n",
    "    def shuffle(self):\n",
    "        random.shuffle(self.deck)\n",
    "\n",
    "    def deal(self):\n",
    "        card = self.deck.pop()\n",
    "        return card\n",
    "\n",
    "    # when we deal a physical card, we take the top card off the deck and put it in the player's hand.\n",
    "    # the dealt card is no longer available in the deck.\n",
    "    # the list.pop() method accomplishes this. just think of the end of the list as the top of the deck.\n",
    "    # as cards are dealt, the number of remaining cards in the deck decreases.\n",
    "\n",
    "    def print_name(self):\n",
    "        print('name = ', __name__)\n",
    "\n",
    "# the following code lets you test the code above if this code is run independently.\n",
    "# but it doesn't run when this code is run as a module.\n",
    "\n",
    "if __name__ == \"__main__\":\n",
    "    suits = ['clubs', 'diamonds', 'hearts', 'spades']\n",
    "    ranks = ['2', '3', '4', '5', '6', '7', '8', '9', '10', 'jack', 'queen', 'king', 'ace']\n",
    "    card_values = [2, 3, 4, 5, 6, 7, 8, 9, 10, 11, 12, 13, 14]\n",
    "    gamedeck = cards(suits, ranks, card_values)\n",
    "    gamedeck.make_deck()\n",
    "    gamedeck.shuffle()\n",
    "    print(gamedeck.deck)\n",
    "    print(len(gamedeck.deck))"
   ]
  },
  {
   "cell_type": "code",
   "execution_count": null,
   "id": "a438cbae-3826-493e-ae4c-07d1c71dceb8",
   "metadata": {},
   "outputs": [],
   "source": [
    "# execution code\n",
    "suits = ['clubs', 'diamonds', 'hearts', 'spades']\n",
    "ranks = ['2', '3', '4', '5', '6', '7', '8', '9', '10', 'jack', 'queen', 'king', 'ace']\n",
    "card_values = [2, 3, 4, 5, 6, 7, 8, 9, 10, 11, 12, 13, 14]\n",
    "gamedeck = cards(suits, ranks, card_values)\n",
    "gamedeck.make_deck()\n",
    "gamedeck.shuffle()\n",
    "print(gamedeck.deck)\n",
    "print(len(gamedeck.deck))"
   ]
  }
 ],
 "metadata": {
  "kernelspec": {
   "display_name": "Python 3 (ipykernel)",
   "language": "python",
   "name": "python3"
  },
  "language_info": {
   "codemirror_mode": {
    "name": "ipython",
    "version": 3
   },
   "file_extension": ".py",
   "mimetype": "text/x-python",
   "name": "python",
   "nbconvert_exporter": "python",
   "pygments_lexer": "ipython3",
   "version": "3.12.4"
  }
 },
 "nbformat": 4,
 "nbformat_minor": 5
}
