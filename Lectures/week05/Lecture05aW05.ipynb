{
 "cells": [
  {
   "cell_type": "markdown",
   "id": "d084cedf-a23f-49c9-a838-eb281583667c",
   "metadata": {},
   "source": [
    "## Week 05: Classes, Objects, and Modules"
   ]
  },
  {
   "cell_type": "markdown",
   "id": "2970bd86-56e8-418b-9106-79be5c669a59",
   "metadata": {
    "jp-MarkdownHeadingCollapsed": true
   },
   "source": [
    "#### Part a: Defining a class, constructing an object, and creating a module\n",
    "This week we finally begin to focus on the core of object-oriented programming: objects.  We use classes to construct or instantiate objects. A class is a kind of data type (like strings, lists, etc.), and an object is an instance of that class or data type.  \n",
    "\n",
    "Classes allow us to group data variables and the functions that use them together. When we do this, our variables are referred to as attributes, and our functions are referred to as methods. This helps a bit with clarity, but is also a way of reminding us that they belong to an object, and are unique to that object.  \n",
    "\n",
    "If we save our class as a python file, we can call it later as a module in another program. This gives us access to all that functionality without having to write it again.  \n",
    "\n",
    "Let's dive in with some examples.\n",
    "\n"
   ]
  },
  {
   "cell_type": "markdown",
   "id": "57333385-9625-4d56-a982-32b65c1ec410",
   "metadata": {},
   "source": [
    "#### Define a class for a deck of cards"
   ]
  },
  {
   "cell_type": "markdown",
   "id": "6b53adbe-eb5a-4049-8f8d-a71968eaccd2",
   "metadata": {},
   "source": [
    "We will be using some simple card games to illustrate programming concepts for the next two weeks."
   ]
  },
  {
   "cell_type": "code",
   "execution_count": null,
   "id": "1a5173f5-1817-44fb-9265-7f688e3c2dd6",
   "metadata": {
    "scrolled": true
   },
   "outputs": [],
   "source": [
    "import random  # we will use this module to shuffle the cards\n",
    "\n",
    "class cards():\n",
    "\n",
    "    # a deck of cards has four suits with 13 cards (ranks) in each suit.\n",
    "    # the cards may have different values depending on the game. for now, we'll use these.\n",
    "    # in some card games, one suit may 'trump' another suit, meaning it has a higher value. we'll skip for now.\n",
    "    # later we'll move these collections out of the class\n",
    "    \n",
    "    suits = ['clubs', 'diamonds', 'hearts', 'spades']\n",
    "    ranks = ['2', '3', '4', '5', '6', '7', '8', '9', '10', 'jack', 'queen', 'king', 'ace']\n",
    "    card_values = [2, 3, 4, 5, 6, 7, 8, 9, 10, 11, 12, 13, 14]\n",
    "\n",
    "    # when we call a class to construct an object, the __init__ method runs automatically.\n",
    "    # this method initializes some of the object's variables and sets their starting values.\n",
    "    \n",
    "    def __init__(self, suits = suits, ranks = ranks, card_values = card_values):\n",
    "        self.suits = suits\n",
    "        self.ranks = ranks\n",
    "        self.card_values = card_values\n",
    "        self.newcard = {}\n",
    "        self.deck = []\n",
    "      \n",
    "    # we define a method to create a deck of cards. although self.deck is initialized above, we do so again\n",
    "    # in the method to ensure that it creates a new deck of 52 cards every time.\n",
    "    \n",
    "    def make_deck(self):\n",
    "        self.deck = [] \n",
    "        for suit in self.suits: # loop through the suits\n",
    "            for index, rank in enumerate(self.ranks): # loop through the ranks; enumerate gives us the index number\n",
    "                value = self.card_values[index] # We use the index number here to get the card value\n",
    "                newcard = {'suit':suit, 'rank':rank, 'value':value} #create a new card dictionary\n",
    "                self.deck.append(newcard) # append the new card to the deck list\n",
    "\n",
    "    # both the make_deck method and shuffle method act on the self.deck attribute.\n",
    "    # that is, they change the elements and order of the object's deck list inside the object.\n",
    "    # they do not return anything explicitly, yet we end up with a shuffled deck.\n",
    "    \n",
    "    def shuffle(self):\n",
    "        random.shuffle(self.deck)\n",
    "\n",
    "    def deal(self):\n",
    "        card = self.deck.pop()\n",
    "        return card\n",
    "\n",
    "    # when we deal a physical card, we take the top card off the deck and put it in the player's hand.\n",
    "    # the dealt card is no longer available in the deck.\n",
    "    # the list.pop() method accomplishes this. just think of the end of the list as the top of the deck.\n",
    "    # as cards are dealt, the number of remaining cards in the deck decreases.\n"
   ]
  },
  {
   "cell_type": "code",
   "execution_count": null,
   "id": "d4ca5dee-c8bd-4664-b8d7-230f8d8d21ae",
   "metadata": {},
   "outputs": [],
   "source": [
    "# we construct the card deck object and assign it to the variable gamedeck.\n",
    "# but the deck list is empty until we make the deck in the next cell\n",
    "gamedeck = cards()\n",
    "print(gamedeck.deck)"
   ]
  },
  {
   "cell_type": "code",
   "execution_count": null,
   "id": "fa9f5ea9-4423-4592-acd0-22e10d32d75a",
   "metadata": {},
   "outputs": [],
   "source": [
    "# make a deck of 52 cards \n",
    "gamedeck.make_deck()\n",
    "print('your new game deck\\n')\n",
    "print(gamedeck.deck)\n",
    "print('number of cards:', len(gamedeck.deck))"
   ]
  },
  {
   "cell_type": "code",
   "execution_count": null,
   "id": "cd31d8f2-2585-4483-bb45-6c48a3b3485b",
   "metadata": {},
   "outputs": [],
   "source": [
    "# shuffle the deck\n",
    "gamedeck.shuffle()\n",
    "print('your game deck shuffled\\n')\n",
    "print(gamedeck.deck)\n",
    "print('number of cards:', len(gamedeck.deck))"
   ]
  },
  {
   "cell_type": "markdown",
   "id": "d8199d56-8109-476a-b28a-fd3ae3c56267",
   "metadata": {},
   "source": [
    "### Now let's play a game of war"
   ]
  },
  {
   "cell_type": "markdown",
   "id": "5d26f7d2-44df-4b1b-a6e1-6e2ed048d9c4",
   "metadata": {},
   "source": [
    "War is a simple card game in which players draw a card off the top of the deck and lay it down. The card with the highest value wins. We will play with two players. Each time they play, they reduce the number of cards in the game deck."
   ]
  },
  {
   "cell_type": "code",
   "execution_count": null,
   "id": "81ca8646-568f-411a-8e19-94e3cfb229a9",
   "metadata": {},
   "outputs": [],
   "source": [
    "# let's play war\n",
    "player1_hand = gamedeck.deal()\n",
    "player2_hand = gamedeck.deal()\n",
    "print('player 1:', player1_hand)\n",
    "print('player 2:', player2_hand)\n",
    "if player1_hand['value'] > player2_hand['value']:\n",
    "    print('player 1 wins!')\n",
    "elif player1_hand['value'] < player2_hand['value']:\n",
    "    print('player 2 wins!')\n",
    "else:\n",
    "    print('tie!')\n",
    "\n",
    "# how many cards left in the game deck?\n",
    "print('the game deck has', len(gamedeck.deck), 'cards left.')"
   ]
  },
  {
   "cell_type": "markdown",
   "id": "bf751d46-e6db-4e35-abd1-12f57532f6fd",
   "metadata": {},
   "source": [
    "The game code above is straight procedural python. Let's rewrite it as a function."
   ]
  },
  {
   "cell_type": "code",
   "execution_count": null,
   "id": "378ecf9b-9a12-4819-9069-addca77033a1",
   "metadata": {},
   "outputs": [],
   "source": [
    "def play_war():\n",
    "    # let's play war\n",
    "    player1_hand = gamedeck.deal()\n",
    "    player2_hand = gamedeck.deal()\n",
    "    print('player 1:', player1_hand)\n",
    "    print('player 2:', player2_hand)\n",
    "    if player1_hand['value'] > player2_hand['value']:\n",
    "        print('player 1 wins!')\n",
    "    elif player1_hand['value'] < player2_hand['value']:\n",
    "        print('player 2 wins!')\n",
    "    else:\n",
    "        print('tie!')\n",
    "\n",
    "# play the game\n",
    "play_war()\n",
    "# how many cards left in the game deck?\n",
    "print('the game deck has', len(gamedeck.deck), 'cards left.')"
   ]
  },
  {
   "cell_type": "markdown",
   "id": "a47c1b37-407d-4bf5-8e62-f17204f60164",
   "metadata": {},
   "source": [
    "What happens when the game deck runs out? How would you deal with it?"
   ]
  },
  {
   "cell_type": "markdown",
   "id": "8d2b9097-c9ea-43c1-8e2e-29b2cc96735f",
   "metadata": {},
   "source": [
    "### Let's make a module"
   ]
  },
  {
   "cell_type": "markdown",
   "id": "6224d16a-b53e-481b-9702-399da3384cc0",
   "metadata": {},
   "source": [
    "Functions are a way of abstracting procedural code that we use over and over again.  \n",
    "Classes are a way of abstracting variables and functions (as attributes and methods).  \n",
    "Modules are a way of abstacting classes, functions, and variables outside of our programs.  \n",
    "\n",
    "To make a module, save the code you want in the module as a python file.  \n",
    "You could also just copy the code (minus the %%writefile line), paste it into a text editor, and save it as cards.py."
   ]
  },
  {
   "cell_type": "code",
   "execution_count": null,
   "id": "2652633b-59ba-4500-af68-ac8c58b77fa2",
   "metadata": {},
   "outputs": [],
   "source": [
    "%%writefile cards.py\n",
    "# this will overwrite the cards.py file\n",
    "# the code below is a copy of the cell above that creates the cards class\n",
    "# with a little extra code at the bottom\n",
    "\n",
    "import random  # we will use this module to shuffle the cards\n",
    "\n",
    "class cards():\n",
    "\n",
    "    # a deck of cards has four suits with 13 cards (ranks) in each suit.\n",
    "    # the cards may have different values depending on the game. for now, we'll use these.\n",
    "    # in some card games, one suit may 'trump' another suit, meaning it has a higher value. we'll skip for now.\n",
    "    # later we'll move these collections out of the class\n",
    "    \n",
    "    suits = ['clubs', 'diamonds', 'hearts', 'spades']\n",
    "    ranks = ['2', '3', '4', '5', '6', '7', '8', '9', '10', 'jack', 'queen', 'king', 'ace']\n",
    "    card_values = [2, 3, 4, 5, 6, 7, 8, 9, 10, 11, 12, 13, 14]\n",
    "\n",
    "    # when we call a class to construct an object, the __init__ method runs automatically.\n",
    "    # this method initializes some of the object's variables and sets their starting values.\n",
    "    \n",
    "    def __init__(self, suits = suits, ranks = ranks, card_values = card_values):\n",
    "        self.suits = suits\n",
    "        self.ranks = ranks\n",
    "        self.card_values = card_values\n",
    "        self.newcard = {}\n",
    "        self.deck = []\n",
    "      \n",
    "    # we define a method to create a deck of cards. although self.deck is initialized above, we do so again\n",
    "    # in the method to ensure that it creates a new deck of 52 cards every time.\n",
    "    \n",
    "    def make_deck(self):\n",
    "        self.deck = [] \n",
    "        for suit in self.suits: # loop through the suits\n",
    "            for index, rank in enumerate(self.ranks): # loop through the ranks; enumerate gives us the index number\n",
    "                value = self.card_values[index] # We use the index number here to get the card value\n",
    "                newcard = {'suit':suit, 'rank':rank, 'value':value} #create a new card dictionary\n",
    "                self.deck.append(newcard) # append the new card to the deck list\n",
    "\n",
    "    # both the make_deck method and shuffle method act on the self.deck attribute.\n",
    "    # that is, they change the elements and order of the object's deck list inside the object.\n",
    "    # they do not return anything explicitly, yet we end up with a shuffled deck.\n",
    "    \n",
    "    def shuffle(self):\n",
    "        random.shuffle(self.deck)\n",
    "\n",
    "    def deal(self):\n",
    "        card = self.deck.pop()\n",
    "        return card\n",
    "\n",
    "    # when we deal a physical card, we take the top card off the deck and put it in the player's hand.\n",
    "    # the dealt card is no longer available in the deck.\n",
    "    # the list.pop() method accomplishes this. just think of the end of the list as the top of the deck.\n",
    "    # as cards are dealt, the number of remaining cards in the deck decreases.\n",
    "\n",
    "    def print_name(self):\n",
    "        print('name = ', __name__)\n",
    "\n",
    "# the following code lets you test the code above if this code is run independently.\n",
    "# but it doesn't run when this code is run as a module.\n",
    "\n",
    "if __name__ == \"__main__\":\n",
    "    gamedeck = cards()\n",
    "    gamedeck.make_deck()\n",
    "    gamedeck.shuffle()\n",
    "    print(gamedeck.deck)\n",
    "    print(len(gamedeck.deck))"
   ]
  },
  {
   "cell_type": "code",
   "execution_count": null,
   "id": "0d79974b-2f80-4d8d-b372-a894cc836756",
   "metadata": {},
   "outputs": [],
   "source": []
  }
 ],
 "metadata": {
  "kernelspec": {
   "display_name": "Python 3 (ipykernel)",
   "language": "python",
   "name": "python3"
  },
  "language_info": {
   "codemirror_mode": {
    "name": "ipython",
    "version": 3
   },
   "file_extension": ".py",
   "mimetype": "text/x-python",
   "name": "python",
   "nbconvert_exporter": "python",
   "pygments_lexer": "ipython3",
   "version": "3.12.4"
  }
 },
 "nbformat": 4,
 "nbformat_minor": 5
}
