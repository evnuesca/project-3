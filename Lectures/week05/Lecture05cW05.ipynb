{
 "cells": [
  {
   "cell_type": "markdown",
   "id": "e3a2b2c4-b8c3-48e2-87c1-feae18b26af0",
   "metadata": {},
   "source": [
    "## Week 05: Classes, Objects, and Modules"
   ]
  },
  {
   "cell_type": "markdown",
   "id": "9c36e4be-5a75-40c8-856d-bceff101b5c8",
   "metadata": {},
   "source": [
    "#### part c: importing cards as a module\n",
    "In this notebook we import our cards module. More precisely, we are importing just the cards class from cards.py. When we do this, we can access the attributes and methods of the cards class just like we could in part a."
   ]
  },
  {
   "cell_type": "code",
   "execution_count": null,
   "id": "74aa39b9-24af-489b-852e-86090ed29134",
   "metadata": {},
   "outputs": [],
   "source": [
    "from cards import cards\n",
    "\n",
    "gamedeck = cards()\n",
    "gamedeck.make_deck()\n",
    "gamedeck.shuffle()\n",
    "\n",
    "# let's play war\n",
    "player1_hand = gamedeck.deal()\n",
    "player2_hand = gamedeck.deal()\n",
    "print('player 1:', player1_hand)\n",
    "print('player 2:', player2_hand)\n",
    "if player1_hand['value'] > player2_hand['value']:\n",
    "    print('player 1 wins!')\n",
    "elif player1_hand['value'] < player2_hand['value']:\n",
    "    print('player 2 wins!')\n",
    "else:\n",
    "    print('tie!')\n",
    "\n",
    "# how many cards left in the game deck?\n",
    "print('the game deck has', len(gamedeck.deck), 'cards left.')"
   ]
  },
  {
   "cell_type": "code",
   "execution_count": null,
   "id": "40aafc7b-a38c-4737-ab7e-bd267cfe348e",
   "metadata": {},
   "outputs": [],
   "source": [
    "print(dir(gamedeck))"
   ]
  },
  {
   "cell_type": "markdown",
   "id": "504da878-ad52-409f-8379-a30872d1af10",
   "metadata": {},
   "source": [
    "However, this time when we run the print_name() method, we see that it is running in the cards module."
   ]
  },
  {
   "cell_type": "code",
   "execution_count": null,
   "id": "8d95c17d-dead-4cf0-ba1a-2e514e036760",
   "metadata": {},
   "outputs": [],
   "source": [
    "gamedeck.print_name()"
   ]
  },
  {
   "cell_type": "code",
   "execution_count": null,
   "id": "f0f67fcb-2fb1-44f4-9848-dfd6e8802a81",
   "metadata": {},
   "outputs": [],
   "source": []
  }
 ],
 "metadata": {
  "kernelspec": {
   "display_name": "Python 3 (ipykernel)",
   "language": "python",
   "name": "python3"
  },
  "language_info": {
   "codemirror_mode": {
    "name": "ipython",
    "version": 3
   },
   "file_extension": ".py",
   "mimetype": "text/x-python",
   "name": "python",
   "nbconvert_exporter": "python",
   "pygments_lexer": "ipython3",
   "version": "3.12.4"
  }
 },
 "nbformat": 4,
 "nbformat_minor": 5
}
